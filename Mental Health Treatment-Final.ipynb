{
 "cells": [
  {
   "cell_type": "markdown",
   "metadata": {},
   "source": [
    "# Objective:\n",
    "Predicting whether people require treatment for mental illness based on certain factors?\n",
    "\n",
    "Steps involved\n",
    "1. Library and data loading\n",
    "2. Data Cleaning\n",
    "3. Encoding Data\n",
    "4. Feature importance\n",
    "5. EDA\n",
    "6. Scalling and fitting\n",
    "7. Evaluating classifiers\n",
    "    a) Logistic Regression\n",
    "    b) KNN\n",
    "    c) SVM\n",
    "    d) Random Forest\n",
    "    e) Decision Tree\n",
    "8. Tuning using Grid Search CV\n",
    "9. Conclusion"
   ]
  },
  {
   "cell_type": "markdown",
   "metadata": {},
   "source": [
    "## 1. Library and data loading"
   ]
  },
  {
   "cell_type": "code",
   "execution_count": 188,
   "metadata": {},
   "outputs": [],
   "source": [
    "import numpy as np # linear algebra\n",
    "import pandas as pd # data processing\n",
    "import matplotlib.pyplot as plt\n",
    "import seaborn as sns"
   ]
  },
  {
   "cell_type": "code",
   "execution_count": 189,
   "metadata": {},
   "outputs": [],
   "source": [
    "df = pd.read_csv(\"survey.csv\")"
   ]
  },
  {
   "cell_type": "code",
   "execution_count": 190,
   "metadata": {},
   "outputs": [
    {
     "data": {
      "text/html": [
       "<div>\n",
       "<style scoped>\n",
       "    .dataframe tbody tr th:only-of-type {\n",
       "        vertical-align: middle;\n",
       "    }\n",
       "\n",
       "    .dataframe tbody tr th {\n",
       "        vertical-align: top;\n",
       "    }\n",
       "\n",
       "    .dataframe thead th {\n",
       "        text-align: right;\n",
       "    }\n",
       "</style>\n",
       "<table border=\"1\" class=\"dataframe\">\n",
       "  <thead>\n",
       "    <tr style=\"text-align: right;\">\n",
       "      <th></th>\n",
       "      <th>Timestamp</th>\n",
       "      <th>Age</th>\n",
       "      <th>Gender</th>\n",
       "      <th>Country</th>\n",
       "      <th>state</th>\n",
       "      <th>self_employed</th>\n",
       "      <th>family_history</th>\n",
       "      <th>treatment</th>\n",
       "      <th>work_interfere</th>\n",
       "      <th>no_employees</th>\n",
       "      <th>...</th>\n",
       "      <th>leave</th>\n",
       "      <th>mental_health_consequence</th>\n",
       "      <th>phys_health_consequence</th>\n",
       "      <th>coworkers</th>\n",
       "      <th>supervisor</th>\n",
       "      <th>mental_health_interview</th>\n",
       "      <th>phys_health_interview</th>\n",
       "      <th>mental_vs_physical</th>\n",
       "      <th>obs_consequence</th>\n",
       "      <th>comments</th>\n",
       "    </tr>\n",
       "  </thead>\n",
       "  <tbody>\n",
       "    <tr>\n",
       "      <th>0</th>\n",
       "      <td>2014-08-27 11:29:31</td>\n",
       "      <td>37</td>\n",
       "      <td>Female</td>\n",
       "      <td>United States</td>\n",
       "      <td>IL</td>\n",
       "      <td>NaN</td>\n",
       "      <td>No</td>\n",
       "      <td>Yes</td>\n",
       "      <td>Often</td>\n",
       "      <td>6-25</td>\n",
       "      <td>...</td>\n",
       "      <td>Somewhat easy</td>\n",
       "      <td>No</td>\n",
       "      <td>No</td>\n",
       "      <td>Some of them</td>\n",
       "      <td>Yes</td>\n",
       "      <td>No</td>\n",
       "      <td>Maybe</td>\n",
       "      <td>Yes</td>\n",
       "      <td>No</td>\n",
       "      <td>NaN</td>\n",
       "    </tr>\n",
       "    <tr>\n",
       "      <th>1</th>\n",
       "      <td>2014-08-27 11:29:37</td>\n",
       "      <td>44</td>\n",
       "      <td>M</td>\n",
       "      <td>United States</td>\n",
       "      <td>IN</td>\n",
       "      <td>NaN</td>\n",
       "      <td>No</td>\n",
       "      <td>No</td>\n",
       "      <td>Rarely</td>\n",
       "      <td>More than 1000</td>\n",
       "      <td>...</td>\n",
       "      <td>Don't know</td>\n",
       "      <td>Maybe</td>\n",
       "      <td>No</td>\n",
       "      <td>No</td>\n",
       "      <td>No</td>\n",
       "      <td>No</td>\n",
       "      <td>No</td>\n",
       "      <td>Don't know</td>\n",
       "      <td>No</td>\n",
       "      <td>NaN</td>\n",
       "    </tr>\n",
       "    <tr>\n",
       "      <th>2</th>\n",
       "      <td>2014-08-27 11:29:44</td>\n",
       "      <td>32</td>\n",
       "      <td>Male</td>\n",
       "      <td>Canada</td>\n",
       "      <td>NaN</td>\n",
       "      <td>NaN</td>\n",
       "      <td>No</td>\n",
       "      <td>No</td>\n",
       "      <td>Rarely</td>\n",
       "      <td>6-25</td>\n",
       "      <td>...</td>\n",
       "      <td>Somewhat difficult</td>\n",
       "      <td>No</td>\n",
       "      <td>No</td>\n",
       "      <td>Yes</td>\n",
       "      <td>Yes</td>\n",
       "      <td>Yes</td>\n",
       "      <td>Yes</td>\n",
       "      <td>No</td>\n",
       "      <td>No</td>\n",
       "      <td>NaN</td>\n",
       "    </tr>\n",
       "    <tr>\n",
       "      <th>3</th>\n",
       "      <td>2014-08-27 11:29:46</td>\n",
       "      <td>31</td>\n",
       "      <td>Male</td>\n",
       "      <td>United Kingdom</td>\n",
       "      <td>NaN</td>\n",
       "      <td>NaN</td>\n",
       "      <td>Yes</td>\n",
       "      <td>Yes</td>\n",
       "      <td>Often</td>\n",
       "      <td>26-100</td>\n",
       "      <td>...</td>\n",
       "      <td>Somewhat difficult</td>\n",
       "      <td>Yes</td>\n",
       "      <td>Yes</td>\n",
       "      <td>Some of them</td>\n",
       "      <td>No</td>\n",
       "      <td>Maybe</td>\n",
       "      <td>Maybe</td>\n",
       "      <td>No</td>\n",
       "      <td>Yes</td>\n",
       "      <td>NaN</td>\n",
       "    </tr>\n",
       "    <tr>\n",
       "      <th>4</th>\n",
       "      <td>2014-08-27 11:30:22</td>\n",
       "      <td>31</td>\n",
       "      <td>Male</td>\n",
       "      <td>United States</td>\n",
       "      <td>TX</td>\n",
       "      <td>NaN</td>\n",
       "      <td>No</td>\n",
       "      <td>No</td>\n",
       "      <td>Never</td>\n",
       "      <td>100-500</td>\n",
       "      <td>...</td>\n",
       "      <td>Don't know</td>\n",
       "      <td>No</td>\n",
       "      <td>No</td>\n",
       "      <td>Some of them</td>\n",
       "      <td>Yes</td>\n",
       "      <td>Yes</td>\n",
       "      <td>Yes</td>\n",
       "      <td>Don't know</td>\n",
       "      <td>No</td>\n",
       "      <td>NaN</td>\n",
       "    </tr>\n",
       "  </tbody>\n",
       "</table>\n",
       "<p>5 rows × 27 columns</p>\n",
       "</div>"
      ],
      "text/plain": [
       "             Timestamp  Age  Gender         Country state self_employed  \\\n",
       "0  2014-08-27 11:29:31   37  Female   United States    IL           NaN   \n",
       "1  2014-08-27 11:29:37   44       M   United States    IN           NaN   \n",
       "2  2014-08-27 11:29:44   32    Male          Canada   NaN           NaN   \n",
       "3  2014-08-27 11:29:46   31    Male  United Kingdom   NaN           NaN   \n",
       "4  2014-08-27 11:30:22   31    Male   United States    TX           NaN   \n",
       "\n",
       "  family_history treatment work_interfere    no_employees  ...  \\\n",
       "0             No       Yes          Often            6-25  ...   \n",
       "1             No        No         Rarely  More than 1000  ...   \n",
       "2             No        No         Rarely            6-25  ...   \n",
       "3            Yes       Yes          Often          26-100  ...   \n",
       "4             No        No          Never         100-500  ...   \n",
       "\n",
       "                leave mental_health_consequence phys_health_consequence  \\\n",
       "0       Somewhat easy                        No                      No   \n",
       "1          Don't know                     Maybe                      No   \n",
       "2  Somewhat difficult                        No                      No   \n",
       "3  Somewhat difficult                       Yes                     Yes   \n",
       "4          Don't know                        No                      No   \n",
       "\n",
       "      coworkers supervisor mental_health_interview phys_health_interview  \\\n",
       "0  Some of them        Yes                      No                 Maybe   \n",
       "1            No         No                      No                    No   \n",
       "2           Yes        Yes                     Yes                   Yes   \n",
       "3  Some of them         No                   Maybe                 Maybe   \n",
       "4  Some of them        Yes                     Yes                   Yes   \n",
       "\n",
       "  mental_vs_physical obs_consequence comments  \n",
       "0                Yes              No      NaN  \n",
       "1         Don't know              No      NaN  \n",
       "2                 No              No      NaN  \n",
       "3                 No             Yes      NaN  \n",
       "4         Don't know              No      NaN  \n",
       "\n",
       "[5 rows x 27 columns]"
      ]
     },
     "execution_count": 190,
     "metadata": {},
     "output_type": "execute_result"
    }
   ],
   "source": [
    "df.head()"
   ]
  },
  {
   "cell_type": "code",
   "execution_count": 191,
   "metadata": {},
   "outputs": [
    {
     "data": {
      "text/plain": [
       "Index(['Timestamp', 'Age', 'Gender', 'Country', 'state', 'self_employed',\n",
       "       'family_history', 'treatment', 'work_interfere', 'no_employees',\n",
       "       'remote_work', 'tech_company', 'benefits', 'care_options',\n",
       "       'wellness_program', 'seek_help', 'anonymity', 'leave',\n",
       "       'mental_health_consequence', 'phys_health_consequence', 'coworkers',\n",
       "       'supervisor', 'mental_health_interview', 'phys_health_interview',\n",
       "       'mental_vs_physical', 'obs_consequence', 'comments'],\n",
       "      dtype='object')"
      ]
     },
     "execution_count": 191,
     "metadata": {},
     "output_type": "execute_result"
    }
   ],
   "source": [
    "df.columns"
   ]
  },
  {
   "cell_type": "code",
   "execution_count": 192,
   "metadata": {},
   "outputs": [
    {
     "name": "stdout",
     "output_type": "stream",
     "text": [
      "<class 'pandas.core.frame.DataFrame'>\n",
      "RangeIndex: 1259 entries, 0 to 1258\n",
      "Data columns (total 27 columns):\n",
      " #   Column                     Non-Null Count  Dtype \n",
      "---  ------                     --------------  ----- \n",
      " 0   Timestamp                  1259 non-null   object\n",
      " 1   Age                        1259 non-null   int64 \n",
      " 2   Gender                     1259 non-null   object\n",
      " 3   Country                    1259 non-null   object\n",
      " 4   state                      744 non-null    object\n",
      " 5   self_employed              1241 non-null   object\n",
      " 6   family_history             1259 non-null   object\n",
      " 7   treatment                  1259 non-null   object\n",
      " 8   work_interfere             995 non-null    object\n",
      " 9   no_employees               1259 non-null   object\n",
      " 10  remote_work                1259 non-null   object\n",
      " 11  tech_company               1259 non-null   object\n",
      " 12  benefits                   1259 non-null   object\n",
      " 13  care_options               1259 non-null   object\n",
      " 14  wellness_program           1259 non-null   object\n",
      " 15  seek_help                  1259 non-null   object\n",
      " 16  anonymity                  1259 non-null   object\n",
      " 17  leave                      1259 non-null   object\n",
      " 18  mental_health_consequence  1259 non-null   object\n",
      " 19  phys_health_consequence    1259 non-null   object\n",
      " 20  coworkers                  1259 non-null   object\n",
      " 21  supervisor                 1259 non-null   object\n",
      " 22  mental_health_interview    1259 non-null   object\n",
      " 23  phys_health_interview      1259 non-null   object\n",
      " 24  mental_vs_physical         1259 non-null   object\n",
      " 25  obs_consequence            1259 non-null   object\n",
      " 26  comments                   164 non-null    object\n",
      "dtypes: int64(1), object(26)\n",
      "memory usage: 265.7+ KB\n"
     ]
    }
   ],
   "source": [
    "#Types of data present\n",
    "df.info()"
   ]
  },
  {
   "cell_type": "code",
   "execution_count": 193,
   "metadata": {},
   "outputs": [
    {
     "data": {
      "text/plain": [
       "(1259, 27)"
      ]
     },
     "execution_count": 193,
     "metadata": {},
     "output_type": "execute_result"
    }
   ],
   "source": [
    "#No. of rows and columns present\n",
    "df.shape"
   ]
  },
  {
   "cell_type": "code",
   "execution_count": 194,
   "metadata": {},
   "outputs": [
    {
     "name": "stdout",
     "output_type": "stream",
     "text": [
      "                Age\n",
      "count  1.259000e+03\n",
      "mean   7.942815e+07\n",
      "std    2.818299e+09\n",
      "min   -1.726000e+03\n",
      "25%    2.700000e+01\n",
      "50%    3.100000e+01\n",
      "75%    3.600000e+01\n",
      "max    1.000000e+11\n"
     ]
    }
   ],
   "source": [
    "#Distribution of the data\n",
    "print(df.describe())"
   ]
  },
  {
   "cell_type": "markdown",
   "metadata": {},
   "source": [
    "## 2. Data cleaning"
   ]
  },
  {
   "cell_type": "code",
   "execution_count": 195,
   "metadata": {},
   "outputs": [
    {
     "data": {
      "text/plain": [
       "Timestamp                       0\n",
       "Age                             0\n",
       "Gender                          0\n",
       "Country                         0\n",
       "state                         515\n",
       "self_employed                  18\n",
       "family_history                  0\n",
       "treatment                       0\n",
       "work_interfere                264\n",
       "no_employees                    0\n",
       "remote_work                     0\n",
       "tech_company                    0\n",
       "benefits                        0\n",
       "care_options                    0\n",
       "wellness_program                0\n",
       "seek_help                       0\n",
       "anonymity                       0\n",
       "leave                           0\n",
       "mental_health_consequence       0\n",
       "phys_health_consequence         0\n",
       "coworkers                       0\n",
       "supervisor                      0\n",
       "mental_health_interview         0\n",
       "phys_health_interview           0\n",
       "mental_vs_physical              0\n",
       "obs_consequence                 0\n",
       "comments                     1095\n",
       "dtype: int64"
      ]
     },
     "execution_count": 195,
     "metadata": {},
     "output_type": "execute_result"
    }
   ],
   "source": [
    "#missing data\n",
    "df.isna().sum()"
   ]
  },
  {
   "cell_type": "code",
   "execution_count": 196,
   "metadata": {},
   "outputs": [],
   "source": [
    "#Dropping the irrelevant columns\n",
    "df.drop(columns = [\"state\", \"Timestamp\", \"comments\", \"Country\"], inplace = True)"
   ]
  },
  {
   "cell_type": "code",
   "execution_count": 197,
   "metadata": {},
   "outputs": [
    {
     "data": {
      "text/plain": [
       "Age                            0\n",
       "Gender                         0\n",
       "self_employed                 18\n",
       "family_history                 0\n",
       "treatment                      0\n",
       "work_interfere               264\n",
       "no_employees                   0\n",
       "remote_work                    0\n",
       "tech_company                   0\n",
       "benefits                       0\n",
       "care_options                   0\n",
       "wellness_program               0\n",
       "seek_help                      0\n",
       "anonymity                      0\n",
       "leave                          0\n",
       "mental_health_consequence      0\n",
       "phys_health_consequence        0\n",
       "coworkers                      0\n",
       "supervisor                     0\n",
       "mental_health_interview        0\n",
       "phys_health_interview          0\n",
       "mental_vs_physical             0\n",
       "obs_consequence                0\n",
       "dtype: int64"
      ]
     },
     "execution_count": 197,
     "metadata": {},
     "output_type": "execute_result"
    }
   ],
   "source": [
    "#Checking if any missing data\n",
    "df.isna().sum()"
   ]
  },
  {
   "cell_type": "code",
   "execution_count": 198,
   "metadata": {},
   "outputs": [
    {
     "data": {
      "text/plain": [
       "Age                           int64\n",
       "Gender                       object\n",
       "self_employed                object\n",
       "family_history               object\n",
       "treatment                    object\n",
       "work_interfere               object\n",
       "no_employees                 object\n",
       "remote_work                  object\n",
       "tech_company                 object\n",
       "benefits                     object\n",
       "care_options                 object\n",
       "wellness_program             object\n",
       "seek_help                    object\n",
       "anonymity                    object\n",
       "leave                        object\n",
       "mental_health_consequence    object\n",
       "phys_health_consequence      object\n",
       "coworkers                    object\n",
       "supervisor                   object\n",
       "mental_health_interview      object\n",
       "phys_health_interview        object\n",
       "mental_vs_physical           object\n",
       "obs_consequence              object\n",
       "dtype: object"
      ]
     },
     "execution_count": 198,
     "metadata": {},
     "output_type": "execute_result"
    }
   ],
   "source": [
    "df.dtypes"
   ]
  },
  {
   "cell_type": "code",
   "execution_count": 199,
   "metadata": {},
   "outputs": [
    {
     "data": {
      "text/plain": [
       "Index(['Age', 'Gender', 'self_employed', 'family_history', 'treatment',\n",
       "       'work_interfere', 'no_employees', 'remote_work', 'tech_company',\n",
       "       'benefits', 'care_options', 'wellness_program', 'seek_help',\n",
       "       'anonymity', 'leave', 'mental_health_consequence',\n",
       "       'phys_health_consequence', 'coworkers', 'supervisor',\n",
       "       'mental_health_interview', 'phys_health_interview',\n",
       "       'mental_vs_physical', 'obs_consequence'],\n",
       "      dtype='object')"
      ]
     },
     "execution_count": 199,
     "metadata": {},
     "output_type": "execute_result"
    }
   ],
   "source": [
    "df.columns[0:23]"
   ]
  },
  {
   "cell_type": "code",
   "execution_count": 200,
   "metadata": {},
   "outputs": [
    {
     "data": {
      "text/html": [
       "<div>\n",
       "<style scoped>\n",
       "    .dataframe tbody tr th:only-of-type {\n",
       "        vertical-align: middle;\n",
       "    }\n",
       "\n",
       "    .dataframe tbody tr th {\n",
       "        vertical-align: top;\n",
       "    }\n",
       "\n",
       "    .dataframe thead th {\n",
       "        text-align: right;\n",
       "    }\n",
       "</style>\n",
       "<table border=\"1\" class=\"dataframe\">\n",
       "  <thead>\n",
       "    <tr style=\"text-align: right;\">\n",
       "      <th></th>\n",
       "      <th>Age</th>\n",
       "      <th>Gender</th>\n",
       "      <th>self_employed</th>\n",
       "      <th>family_history</th>\n",
       "      <th>treatment</th>\n",
       "      <th>work_interfere</th>\n",
       "      <th>no_employees</th>\n",
       "      <th>remote_work</th>\n",
       "      <th>tech_company</th>\n",
       "      <th>benefits</th>\n",
       "      <th>...</th>\n",
       "      <th>anonymity</th>\n",
       "      <th>leave</th>\n",
       "      <th>mental_health_consequence</th>\n",
       "      <th>phys_health_consequence</th>\n",
       "      <th>coworkers</th>\n",
       "      <th>supervisor</th>\n",
       "      <th>mental_health_interview</th>\n",
       "      <th>phys_health_interview</th>\n",
       "      <th>mental_vs_physical</th>\n",
       "      <th>obs_consequence</th>\n",
       "    </tr>\n",
       "  </thead>\n",
       "  <tbody>\n",
       "    <tr>\n",
       "      <th>0</th>\n",
       "      <td>37</td>\n",
       "      <td>Female</td>\n",
       "      <td>NaN</td>\n",
       "      <td>No</td>\n",
       "      <td>Yes</td>\n",
       "      <td>Often</td>\n",
       "      <td>6-25</td>\n",
       "      <td>No</td>\n",
       "      <td>Yes</td>\n",
       "      <td>Yes</td>\n",
       "      <td>...</td>\n",
       "      <td>Yes</td>\n",
       "      <td>Somewhat easy</td>\n",
       "      <td>No</td>\n",
       "      <td>No</td>\n",
       "      <td>Some of them</td>\n",
       "      <td>Yes</td>\n",
       "      <td>No</td>\n",
       "      <td>Maybe</td>\n",
       "      <td>Yes</td>\n",
       "      <td>No</td>\n",
       "    </tr>\n",
       "    <tr>\n",
       "      <th>1</th>\n",
       "      <td>44</td>\n",
       "      <td>M</td>\n",
       "      <td>NaN</td>\n",
       "      <td>No</td>\n",
       "      <td>No</td>\n",
       "      <td>Rarely</td>\n",
       "      <td>More than 1000</td>\n",
       "      <td>No</td>\n",
       "      <td>No</td>\n",
       "      <td>Don't know</td>\n",
       "      <td>...</td>\n",
       "      <td>Don't know</td>\n",
       "      <td>Don't know</td>\n",
       "      <td>Maybe</td>\n",
       "      <td>No</td>\n",
       "      <td>No</td>\n",
       "      <td>No</td>\n",
       "      <td>No</td>\n",
       "      <td>No</td>\n",
       "      <td>Don't know</td>\n",
       "      <td>No</td>\n",
       "    </tr>\n",
       "    <tr>\n",
       "      <th>2</th>\n",
       "      <td>32</td>\n",
       "      <td>Male</td>\n",
       "      <td>NaN</td>\n",
       "      <td>No</td>\n",
       "      <td>No</td>\n",
       "      <td>Rarely</td>\n",
       "      <td>6-25</td>\n",
       "      <td>No</td>\n",
       "      <td>Yes</td>\n",
       "      <td>No</td>\n",
       "      <td>...</td>\n",
       "      <td>Don't know</td>\n",
       "      <td>Somewhat difficult</td>\n",
       "      <td>No</td>\n",
       "      <td>No</td>\n",
       "      <td>Yes</td>\n",
       "      <td>Yes</td>\n",
       "      <td>Yes</td>\n",
       "      <td>Yes</td>\n",
       "      <td>No</td>\n",
       "      <td>No</td>\n",
       "    </tr>\n",
       "    <tr>\n",
       "      <th>3</th>\n",
       "      <td>31</td>\n",
       "      <td>Male</td>\n",
       "      <td>NaN</td>\n",
       "      <td>Yes</td>\n",
       "      <td>Yes</td>\n",
       "      <td>Often</td>\n",
       "      <td>26-100</td>\n",
       "      <td>No</td>\n",
       "      <td>Yes</td>\n",
       "      <td>No</td>\n",
       "      <td>...</td>\n",
       "      <td>No</td>\n",
       "      <td>Somewhat difficult</td>\n",
       "      <td>Yes</td>\n",
       "      <td>Yes</td>\n",
       "      <td>Some of them</td>\n",
       "      <td>No</td>\n",
       "      <td>Maybe</td>\n",
       "      <td>Maybe</td>\n",
       "      <td>No</td>\n",
       "      <td>Yes</td>\n",
       "    </tr>\n",
       "    <tr>\n",
       "      <th>4</th>\n",
       "      <td>31</td>\n",
       "      <td>Male</td>\n",
       "      <td>NaN</td>\n",
       "      <td>No</td>\n",
       "      <td>No</td>\n",
       "      <td>Never</td>\n",
       "      <td>100-500</td>\n",
       "      <td>Yes</td>\n",
       "      <td>Yes</td>\n",
       "      <td>Yes</td>\n",
       "      <td>...</td>\n",
       "      <td>Don't know</td>\n",
       "      <td>Don't know</td>\n",
       "      <td>No</td>\n",
       "      <td>No</td>\n",
       "      <td>Some of them</td>\n",
       "      <td>Yes</td>\n",
       "      <td>Yes</td>\n",
       "      <td>Yes</td>\n",
       "      <td>Don't know</td>\n",
       "      <td>No</td>\n",
       "    </tr>\n",
       "  </tbody>\n",
       "</table>\n",
       "<p>5 rows × 23 columns</p>\n",
       "</div>"
      ],
      "text/plain": [
       "   Age  Gender self_employed family_history treatment work_interfere  \\\n",
       "0   37  Female           NaN             No       Yes          Often   \n",
       "1   44       M           NaN             No        No         Rarely   \n",
       "2   32    Male           NaN             No        No         Rarely   \n",
       "3   31    Male           NaN            Yes       Yes          Often   \n",
       "4   31    Male           NaN             No        No          Never   \n",
       "\n",
       "     no_employees remote_work tech_company    benefits  ...   anonymity  \\\n",
       "0            6-25          No          Yes         Yes  ...         Yes   \n",
       "1  More than 1000          No           No  Don't know  ...  Don't know   \n",
       "2            6-25          No          Yes          No  ...  Don't know   \n",
       "3          26-100          No          Yes          No  ...          No   \n",
       "4         100-500         Yes          Yes         Yes  ...  Don't know   \n",
       "\n",
       "                leave mental_health_consequence phys_health_consequence  \\\n",
       "0       Somewhat easy                        No                      No   \n",
       "1          Don't know                     Maybe                      No   \n",
       "2  Somewhat difficult                        No                      No   \n",
       "3  Somewhat difficult                       Yes                     Yes   \n",
       "4          Don't know                        No                      No   \n",
       "\n",
       "      coworkers supervisor mental_health_interview phys_health_interview  \\\n",
       "0  Some of them        Yes                      No                 Maybe   \n",
       "1            No         No                      No                    No   \n",
       "2           Yes        Yes                     Yes                   Yes   \n",
       "3  Some of them         No                   Maybe                 Maybe   \n",
       "4  Some of them        Yes                     Yes                   Yes   \n",
       "\n",
       "  mental_vs_physical obs_consequence  \n",
       "0                Yes              No  \n",
       "1         Don't know              No  \n",
       "2                 No              No  \n",
       "3                 No             Yes  \n",
       "4         Don't know              No  \n",
       "\n",
       "[5 rows x 23 columns]"
      ]
     },
     "execution_count": 200,
     "metadata": {},
     "output_type": "execute_result"
    }
   ],
   "source": [
    "# Assign default values for each data type\n",
    "default_int = 0\n",
    "default_string = 'NaN'\n",
    "\n",
    "# Create lists by data tpe\n",
    "int_column = df.columns[0]\n",
    "string_column = df.columns[1:23]\n",
    "\n",
    "# Replacing the NaN with the default values according to data type\n",
    "for col in df:\n",
    "    #print(feature)\n",
    "    if col in int_column:\n",
    "        df[col] = df[col].fillna(default_int)\n",
    "    elif col in string_column:\n",
    "        df[col] = df[col].fillna(default_string)\n",
    "    else:\n",
    "        print('Error: Feature %s not recognized.' % col)\n",
    "df.head(5)   "
   ]
  },
  {
   "cell_type": "markdown",
   "metadata": {},
   "source": [
    "### Clean Gender"
   ]
  },
  {
   "cell_type": "code",
   "execution_count": 201,
   "metadata": {},
   "outputs": [
    {
     "name": "stdout",
     "output_type": "stream",
     "text": [
      "['female' 'm' 'male' 'male-ish' 'maile' 'trans-female' 'cis female' 'f'\n",
      " 'something kinda male?' 'cis male' 'woman' 'mal' 'male (cis)'\n",
      " 'queer/she/they' 'non-binary' 'femake' 'make' 'nah' 'all' 'enby' 'fluid'\n",
      " 'genderqueer' 'female ' 'androgyne' 'agender' 'cis-female/femme'\n",
      " 'guy (-ish) ^_^' 'male leaning androgynous' 'male ' 'man' 'trans woman'\n",
      " 'msle' 'neuter' 'female (trans)' 'queer' 'female (cis)' 'mail'\n",
      " 'a little about you' 'malr' 'p' 'femail' 'cis man'\n",
      " 'ostensibly male, unsure what that really means']\n"
     ]
    }
   ],
   "source": [
    "#lower case all columm's elements\n",
    "gender = df['Gender'].str.lower()\n",
    "#Getting the unique elements of Gender\n",
    "print(gender.unique())"
   ]
  },
  {
   "cell_type": "code",
   "execution_count": 202,
   "metadata": {},
   "outputs": [
    {
     "name": "stdout",
     "output_type": "stream",
     "text": [
      "['female' 'male' 'queer']\n"
     ]
    }
   ],
   "source": [
    "#Divide into three gender groups - Male, Female and Queer\n",
    "male = [\"male\", \"m\", \"male-ish\", \"maile\", \"mal\", \"male (cis)\", \"make\", \"male \", \"man\",\"msle\", \"mail\", \"malr\",\"cis man\", \"Cis Male\", \"cis male\"]\n",
    "queer = [\"trans-female\", \"something kinda male?\", \"queer/she/they\", \"non-binary\",\"nah\", \"all\", \"enby\", \"fluid\", \"genderqueer\", \"androgyne\", \"agender\", \"male leaning androgynous\", \"guy (-ish) ^_^\", \"trans woman\", \"neuter\", \"female (trans)\", \"queer\", \"ostensibly male, unsure what that really means\"]           \n",
    "female = [\"cis female\", \"f\", \"female\", \"woman\",  \"femake\", \"female \",\"cis-female/femme\", \"female (cis)\", \"femail\"]\n",
    "\n",
    "#Iter through each row and column of the df\n",
    "for (row, col) in df.iterrows():\n",
    "    \n",
    "    #Replacing Male types\n",
    "    if str.lower(col.Gender) in male:\n",
    "        df['Gender'].replace(to_replace = col.Gender, value ='male', inplace = True) \n",
    "\n",
    "    #Replacing Female types\n",
    "    if str.lower(col.Gender) in female:\n",
    "        df['Gender'].replace(to_replace = col.Gender, value = 'female', inplace = True)\n",
    "        \n",
    "    #Replacing Queer types\n",
    "    if str.lower(col.Gender) in queer:\n",
    "        df['Gender'].replace(to_replace = col.Gender, value = 'queer', inplace = True)\n",
    "\n",
    "#Get rid of irrelevant data\n",
    "unknown = ['A little about you', 'p']\n",
    "df = df[~df['Gender'].isin(unknown)]\n",
    "\n",
    "print(df['Gender'].unique())"
   ]
  },
  {
   "cell_type": "markdown",
   "metadata": {},
   "source": [
    "### Clean Age"
   ]
  },
  {
   "cell_type": "code",
   "execution_count": 203,
   "metadata": {},
   "outputs": [
    {
     "data": {
      "text/plain": [
       "array([         37,          44,          32,          31,          33,\n",
       "                35,          39,          42,          23,          29,\n",
       "                36,          27,          46,          41,          34,\n",
       "                30,          40,          38,          50,          24,\n",
       "                18,          28,          26,          22,          19,\n",
       "                25,          45,          21,         -29,          43,\n",
       "                56,          60,          54,         329,          55,\n",
       "       99999999999,          48,          20,          57,          58,\n",
       "                47,          62,          51,          65,          49,\n",
       "             -1726,           5,          53,          61,          11,\n",
       "                72], dtype=int64)"
      ]
     },
     "execution_count": 203,
     "metadata": {},
     "output_type": "execute_result"
    }
   ],
   "source": [
    "df[\"Age\"].unique()"
   ]
  },
  {
   "cell_type": "code",
   "execution_count": 204,
   "metadata": {},
   "outputs": [],
   "source": [
    "#Treating the outliers of Age\n",
    "for index, rows in df.iterrows():\n",
    "    #print(\"Current index \", index)\n",
    "    #print(\"Current row \", rows)\n",
    "    #print(\"Age is \", rows[\"Age\"])\n",
    "    if((df.loc[index, 'Age']) == -29):\n",
    "        df.at[index, 'Age'] = 0\n",
    "    if((df.loc[index, 'Age']) == 99999999999):\n",
    "        df.at[index, 'Age'] = 0\n",
    "    if((df.loc[index, 'Age']) == -1726):\n",
    "        df.at[index, 'Age'] = 0\n",
    "    if((df.loc[index, 'Age']) == 329):\n",
    "        df.at[index, 'Age'] = 0        "
   ]
  },
  {
   "cell_type": "code",
   "execution_count": 205,
   "metadata": {},
   "outputs": [
    {
     "data": {
      "text/plain": [
       "array([37, 44, 32, 31, 33, 35, 39, 42, 23, 29, 36, 27, 46, 41, 34, 30, 40,\n",
       "       38, 50, 24, 18, 28, 26, 22, 19, 25, 45, 21,  0, 43, 56, 60, 54, 55,\n",
       "       48, 20, 57, 58, 47, 62, 51, 65, 49,  5, 53, 61, 11, 72],\n",
       "      dtype=int64)"
      ]
     },
     "execution_count": 205,
     "metadata": {},
     "output_type": "execute_result"
    }
   ],
   "source": [
    "df[\"Age\"].unique()"
   ]
  },
  {
   "cell_type": "code",
   "execution_count": 206,
   "metadata": {},
   "outputs": [],
   "source": [
    "#Replacing the Nan with median for the age column\n",
    "df[\"Age\"] = df[\"Age\"].replace(0, df['Age'].median()) "
   ]
  },
  {
   "cell_type": "code",
   "execution_count": 207,
   "metadata": {},
   "outputs": [],
   "source": [
    "#Age ranges\n",
    "df[\"Age_cat\"] = pd.cut(df.Age, [0, 18 , 60, 800], labels=[\"Children\", \"Adult\", \"Senior Citizen\"], include_lowest = True)"
   ]
  },
  {
   "cell_type": "code",
   "execution_count": 208,
   "metadata": {},
   "outputs": [
    {
     "data": {
      "text/plain": [
       "0    (36.0, 72.0]\n",
       "1    (36.0, 72.0]\n",
       "2    (31.0, 36.0]\n",
       "3    (27.0, 31.0]\n",
       "4    (27.0, 31.0]\n",
       "Name: Age, dtype: category\n",
       "Categories (4, interval[float64]): [(4.999, 27.0] < (27.0, 31.0] < (31.0, 36.0] < (36.0, 72.0]]"
      ]
     },
     "execution_count": 208,
     "metadata": {},
     "output_type": "execute_result"
    }
   ],
   "source": [
    "pd.qcut(df.Age, q = 4).head()"
   ]
  },
  {
   "cell_type": "code",
   "execution_count": 209,
   "metadata": {},
   "outputs": [
    {
     "data": {
      "text/html": [
       "<div>\n",
       "<style scoped>\n",
       "    .dataframe tbody tr th:only-of-type {\n",
       "        vertical-align: middle;\n",
       "    }\n",
       "\n",
       "    .dataframe tbody tr th {\n",
       "        vertical-align: top;\n",
       "    }\n",
       "\n",
       "    .dataframe thead th {\n",
       "        text-align: right;\n",
       "    }\n",
       "</style>\n",
       "<table border=\"1\" class=\"dataframe\">\n",
       "  <thead>\n",
       "    <tr style=\"text-align: right;\">\n",
       "      <th></th>\n",
       "      <th>Age</th>\n",
       "      <th>Gender</th>\n",
       "      <th>self_employed</th>\n",
       "      <th>family_history</th>\n",
       "      <th>treatment</th>\n",
       "      <th>work_interfere</th>\n",
       "      <th>no_employees</th>\n",
       "      <th>remote_work</th>\n",
       "      <th>tech_company</th>\n",
       "      <th>benefits</th>\n",
       "      <th>...</th>\n",
       "      <th>anonymity</th>\n",
       "      <th>leave</th>\n",
       "      <th>mental_health_consequence</th>\n",
       "      <th>phys_health_consequence</th>\n",
       "      <th>coworkers</th>\n",
       "      <th>supervisor</th>\n",
       "      <th>mental_health_interview</th>\n",
       "      <th>phys_health_interview</th>\n",
       "      <th>mental_vs_physical</th>\n",
       "      <th>obs_consequence</th>\n",
       "    </tr>\n",
       "    <tr>\n",
       "      <th>Age_cat</th>\n",
       "      <th></th>\n",
       "      <th></th>\n",
       "      <th></th>\n",
       "      <th></th>\n",
       "      <th></th>\n",
       "      <th></th>\n",
       "      <th></th>\n",
       "      <th></th>\n",
       "      <th></th>\n",
       "      <th></th>\n",
       "      <th></th>\n",
       "      <th></th>\n",
       "      <th></th>\n",
       "      <th></th>\n",
       "      <th></th>\n",
       "      <th></th>\n",
       "      <th></th>\n",
       "      <th></th>\n",
       "      <th></th>\n",
       "      <th></th>\n",
       "      <th></th>\n",
       "    </tr>\n",
       "  </thead>\n",
       "  <tbody>\n",
       "    <tr>\n",
       "      <th>Children</th>\n",
       "      <td>9</td>\n",
       "      <td>9</td>\n",
       "      <td>9</td>\n",
       "      <td>9</td>\n",
       "      <td>9</td>\n",
       "      <td>9</td>\n",
       "      <td>9</td>\n",
       "      <td>9</td>\n",
       "      <td>9</td>\n",
       "      <td>9</td>\n",
       "      <td>...</td>\n",
       "      <td>9</td>\n",
       "      <td>9</td>\n",
       "      <td>9</td>\n",
       "      <td>9</td>\n",
       "      <td>9</td>\n",
       "      <td>9</td>\n",
       "      <td>9</td>\n",
       "      <td>9</td>\n",
       "      <td>9</td>\n",
       "      <td>9</td>\n",
       "    </tr>\n",
       "    <tr>\n",
       "      <th>Adult</th>\n",
       "      <td>1244</td>\n",
       "      <td>1244</td>\n",
       "      <td>1244</td>\n",
       "      <td>1244</td>\n",
       "      <td>1244</td>\n",
       "      <td>1244</td>\n",
       "      <td>1244</td>\n",
       "      <td>1244</td>\n",
       "      <td>1244</td>\n",
       "      <td>1244</td>\n",
       "      <td>...</td>\n",
       "      <td>1244</td>\n",
       "      <td>1244</td>\n",
       "      <td>1244</td>\n",
       "      <td>1244</td>\n",
       "      <td>1244</td>\n",
       "      <td>1244</td>\n",
       "      <td>1244</td>\n",
       "      <td>1244</td>\n",
       "      <td>1244</td>\n",
       "      <td>1244</td>\n",
       "    </tr>\n",
       "    <tr>\n",
       "      <th>Senior Citizen</th>\n",
       "      <td>4</td>\n",
       "      <td>4</td>\n",
       "      <td>4</td>\n",
       "      <td>4</td>\n",
       "      <td>4</td>\n",
       "      <td>4</td>\n",
       "      <td>4</td>\n",
       "      <td>4</td>\n",
       "      <td>4</td>\n",
       "      <td>4</td>\n",
       "      <td>...</td>\n",
       "      <td>4</td>\n",
       "      <td>4</td>\n",
       "      <td>4</td>\n",
       "      <td>4</td>\n",
       "      <td>4</td>\n",
       "      <td>4</td>\n",
       "      <td>4</td>\n",
       "      <td>4</td>\n",
       "      <td>4</td>\n",
       "      <td>4</td>\n",
       "    </tr>\n",
       "  </tbody>\n",
       "</table>\n",
       "<p>3 rows × 23 columns</p>\n",
       "</div>"
      ],
      "text/plain": [
       "                 Age  Gender  self_employed  family_history  treatment  \\\n",
       "Age_cat                                                                  \n",
       "Children           9       9              9               9          9   \n",
       "Adult           1244    1244           1244            1244       1244   \n",
       "Senior Citizen     4       4              4               4          4   \n",
       "\n",
       "                work_interfere  no_employees  remote_work  tech_company  \\\n",
       "Age_cat                                                                   \n",
       "Children                     9             9            9             9   \n",
       "Adult                     1244          1244         1244          1244   \n",
       "Senior Citizen               4             4            4             4   \n",
       "\n",
       "                benefits  ...  anonymity  leave  mental_health_consequence  \\\n",
       "Age_cat                   ...                                                \n",
       "Children               9  ...          9      9                          9   \n",
       "Adult               1244  ...       1244   1244                       1244   \n",
       "Senior Citizen         4  ...          4      4                          4   \n",
       "\n",
       "                phys_health_consequence  coworkers  supervisor  \\\n",
       "Age_cat                                                          \n",
       "Children                              9          9           9   \n",
       "Adult                              1244       1244        1244   \n",
       "Senior Citizen                        4          4           4   \n",
       "\n",
       "                mental_health_interview  phys_health_interview  \\\n",
       "Age_cat                                                          \n",
       "Children                              9                      9   \n",
       "Adult                              1244                   1244   \n",
       "Senior Citizen                        4                      4   \n",
       "\n",
       "                mental_vs_physical  obs_consequence  \n",
       "Age_cat                                              \n",
       "Children                         9                9  \n",
       "Adult                         1244             1244  \n",
       "Senior Citizen                   4                4  \n",
       "\n",
       "[3 rows x 23 columns]"
      ]
     },
     "execution_count": 209,
     "metadata": {},
     "output_type": "execute_result"
    }
   ],
   "source": [
    "df.groupby(\"Age_cat\").count()"
   ]
  },
  {
   "cell_type": "code",
   "execution_count": 210,
   "metadata": {},
   "outputs": [
    {
     "data": {
      "text/plain": [
       "Index(['Age', 'Gender', 'self_employed', 'family_history', 'treatment',\n",
       "       'work_interfere', 'no_employees', 'remote_work', 'tech_company',\n",
       "       'benefits', 'care_options', 'wellness_program', 'seek_help',\n",
       "       'anonymity', 'leave', 'mental_health_consequence',\n",
       "       'phys_health_consequence', 'coworkers', 'supervisor',\n",
       "       'mental_health_interview', 'phys_health_interview',\n",
       "       'mental_vs_physical', 'obs_consequence', 'Age_cat'],\n",
       "      dtype='object')"
      ]
     },
     "execution_count": 210,
     "metadata": {},
     "output_type": "execute_result"
    }
   ],
   "source": [
    "df.columns"
   ]
  },
  {
   "cell_type": "markdown",
   "metadata": {},
   "source": [
    "### Cleaning Self employed"
   ]
  },
  {
   "cell_type": "code",
   "execution_count": 211,
   "metadata": {},
   "outputs": [
    {
     "data": {
      "text/plain": [
       "array(['NaN', 'Yes', 'No'], dtype=object)"
      ]
     },
     "execution_count": 211,
     "metadata": {},
     "output_type": "execute_result"
    }
   ],
   "source": [
    "df['self_employed'].unique()"
   ]
  },
  {
   "cell_type": "code",
   "execution_count": 212,
   "metadata": {},
   "outputs": [],
   "source": [
    "#Replacing the 18 NaN values previously found, by No\n",
    "df['self_employed'] = df['self_employed'].replace('NaN', 'No')"
   ]
  },
  {
   "cell_type": "code",
   "execution_count": 213,
   "metadata": {},
   "outputs": [
    {
     "data": {
      "text/plain": [
       "array(['No', 'Yes'], dtype=object)"
      ]
     },
     "execution_count": 213,
     "metadata": {},
     "output_type": "execute_result"
    }
   ],
   "source": [
    "df['self_employed'].unique()"
   ]
  },
  {
   "cell_type": "markdown",
   "metadata": {},
   "source": [
    "### Cleaning work interfere"
   ]
  },
  {
   "cell_type": "code",
   "execution_count": 214,
   "metadata": {},
   "outputs": [
    {
     "data": {
      "text/plain": [
       "array(['Often', 'Rarely', 'Never', 'Sometimes', 'NaN'], dtype=object)"
      ]
     },
     "execution_count": 214,
     "metadata": {},
     "output_type": "execute_result"
    }
   ],
   "source": [
    "df['work_interfere'].unique()"
   ]
  },
  {
   "cell_type": "code",
   "execution_count": 215,
   "metadata": {},
   "outputs": [],
   "source": [
    "#Replacing the NaN values previously found, by Unsure\n",
    "df['work_interfere'] = df['work_interfere'].replace('NaN', 'Unsure')"
   ]
  },
  {
   "cell_type": "code",
   "execution_count": 216,
   "metadata": {},
   "outputs": [
    {
     "data": {
      "text/html": [
       "<div>\n",
       "<style scoped>\n",
       "    .dataframe tbody tr th:only-of-type {\n",
       "        vertical-align: middle;\n",
       "    }\n",
       "\n",
       "    .dataframe tbody tr th {\n",
       "        vertical-align: top;\n",
       "    }\n",
       "\n",
       "    .dataframe thead th {\n",
       "        text-align: right;\n",
       "    }\n",
       "</style>\n",
       "<table border=\"1\" class=\"dataframe\">\n",
       "  <thead>\n",
       "    <tr style=\"text-align: right;\">\n",
       "      <th></th>\n",
       "      <th>Age</th>\n",
       "      <th>Gender</th>\n",
       "      <th>self_employed</th>\n",
       "      <th>family_history</th>\n",
       "      <th>treatment</th>\n",
       "      <th>no_employees</th>\n",
       "      <th>remote_work</th>\n",
       "      <th>tech_company</th>\n",
       "      <th>benefits</th>\n",
       "      <th>care_options</th>\n",
       "      <th>...</th>\n",
       "      <th>leave</th>\n",
       "      <th>mental_health_consequence</th>\n",
       "      <th>phys_health_consequence</th>\n",
       "      <th>coworkers</th>\n",
       "      <th>supervisor</th>\n",
       "      <th>mental_health_interview</th>\n",
       "      <th>phys_health_interview</th>\n",
       "      <th>mental_vs_physical</th>\n",
       "      <th>obs_consequence</th>\n",
       "      <th>Age_cat</th>\n",
       "    </tr>\n",
       "    <tr>\n",
       "      <th>work_interfere</th>\n",
       "      <th></th>\n",
       "      <th></th>\n",
       "      <th></th>\n",
       "      <th></th>\n",
       "      <th></th>\n",
       "      <th></th>\n",
       "      <th></th>\n",
       "      <th></th>\n",
       "      <th></th>\n",
       "      <th></th>\n",
       "      <th></th>\n",
       "      <th></th>\n",
       "      <th></th>\n",
       "      <th></th>\n",
       "      <th></th>\n",
       "      <th></th>\n",
       "      <th></th>\n",
       "      <th></th>\n",
       "      <th></th>\n",
       "      <th></th>\n",
       "      <th></th>\n",
       "    </tr>\n",
       "  </thead>\n",
       "  <tbody>\n",
       "    <tr>\n",
       "      <th>Never</th>\n",
       "      <td>213</td>\n",
       "      <td>213</td>\n",
       "      <td>213</td>\n",
       "      <td>213</td>\n",
       "      <td>213</td>\n",
       "      <td>213</td>\n",
       "      <td>213</td>\n",
       "      <td>213</td>\n",
       "      <td>213</td>\n",
       "      <td>213</td>\n",
       "      <td>...</td>\n",
       "      <td>213</td>\n",
       "      <td>213</td>\n",
       "      <td>213</td>\n",
       "      <td>213</td>\n",
       "      <td>213</td>\n",
       "      <td>213</td>\n",
       "      <td>213</td>\n",
       "      <td>213</td>\n",
       "      <td>213</td>\n",
       "      <td>213</td>\n",
       "    </tr>\n",
       "    <tr>\n",
       "      <th>Often</th>\n",
       "      <td>142</td>\n",
       "      <td>142</td>\n",
       "      <td>142</td>\n",
       "      <td>142</td>\n",
       "      <td>142</td>\n",
       "      <td>142</td>\n",
       "      <td>142</td>\n",
       "      <td>142</td>\n",
       "      <td>142</td>\n",
       "      <td>142</td>\n",
       "      <td>...</td>\n",
       "      <td>142</td>\n",
       "      <td>142</td>\n",
       "      <td>142</td>\n",
       "      <td>142</td>\n",
       "      <td>142</td>\n",
       "      <td>142</td>\n",
       "      <td>142</td>\n",
       "      <td>142</td>\n",
       "      <td>142</td>\n",
       "      <td>142</td>\n",
       "    </tr>\n",
       "    <tr>\n",
       "      <th>Rarely</th>\n",
       "      <td>173</td>\n",
       "      <td>173</td>\n",
       "      <td>173</td>\n",
       "      <td>173</td>\n",
       "      <td>173</td>\n",
       "      <td>173</td>\n",
       "      <td>173</td>\n",
       "      <td>173</td>\n",
       "      <td>173</td>\n",
       "      <td>173</td>\n",
       "      <td>...</td>\n",
       "      <td>173</td>\n",
       "      <td>173</td>\n",
       "      <td>173</td>\n",
       "      <td>173</td>\n",
       "      <td>173</td>\n",
       "      <td>173</td>\n",
       "      <td>173</td>\n",
       "      <td>173</td>\n",
       "      <td>173</td>\n",
       "      <td>173</td>\n",
       "    </tr>\n",
       "    <tr>\n",
       "      <th>Sometimes</th>\n",
       "      <td>465</td>\n",
       "      <td>465</td>\n",
       "      <td>465</td>\n",
       "      <td>465</td>\n",
       "      <td>465</td>\n",
       "      <td>465</td>\n",
       "      <td>465</td>\n",
       "      <td>465</td>\n",
       "      <td>465</td>\n",
       "      <td>465</td>\n",
       "      <td>...</td>\n",
       "      <td>465</td>\n",
       "      <td>465</td>\n",
       "      <td>465</td>\n",
       "      <td>465</td>\n",
       "      <td>465</td>\n",
       "      <td>465</td>\n",
       "      <td>465</td>\n",
       "      <td>465</td>\n",
       "      <td>465</td>\n",
       "      <td>465</td>\n",
       "    </tr>\n",
       "    <tr>\n",
       "      <th>Unsure</th>\n",
       "      <td>264</td>\n",
       "      <td>264</td>\n",
       "      <td>264</td>\n",
       "      <td>264</td>\n",
       "      <td>264</td>\n",
       "      <td>264</td>\n",
       "      <td>264</td>\n",
       "      <td>264</td>\n",
       "      <td>264</td>\n",
       "      <td>264</td>\n",
       "      <td>...</td>\n",
       "      <td>264</td>\n",
       "      <td>264</td>\n",
       "      <td>264</td>\n",
       "      <td>264</td>\n",
       "      <td>264</td>\n",
       "      <td>264</td>\n",
       "      <td>264</td>\n",
       "      <td>264</td>\n",
       "      <td>264</td>\n",
       "      <td>264</td>\n",
       "    </tr>\n",
       "  </tbody>\n",
       "</table>\n",
       "<p>5 rows × 23 columns</p>\n",
       "</div>"
      ],
      "text/plain": [
       "                Age  Gender  self_employed  family_history  treatment  \\\n",
       "work_interfere                                                          \n",
       "Never           213     213            213             213        213   \n",
       "Often           142     142            142             142        142   \n",
       "Rarely          173     173            173             173        173   \n",
       "Sometimes       465     465            465             465        465   \n",
       "Unsure          264     264            264             264        264   \n",
       "\n",
       "                no_employees  remote_work  tech_company  benefits  \\\n",
       "work_interfere                                                      \n",
       "Never                    213          213           213       213   \n",
       "Often                    142          142           142       142   \n",
       "Rarely                   173          173           173       173   \n",
       "Sometimes                465          465           465       465   \n",
       "Unsure                   264          264           264       264   \n",
       "\n",
       "                care_options  ...  leave  mental_health_consequence  \\\n",
       "work_interfere                ...                                     \n",
       "Never                    213  ...    213                        213   \n",
       "Often                    142  ...    142                        142   \n",
       "Rarely                   173  ...    173                        173   \n",
       "Sometimes                465  ...    465                        465   \n",
       "Unsure                   264  ...    264                        264   \n",
       "\n",
       "                phys_health_consequence  coworkers  supervisor  \\\n",
       "work_interfere                                                   \n",
       "Never                               213        213         213   \n",
       "Often                               142        142         142   \n",
       "Rarely                              173        173         173   \n",
       "Sometimes                           465        465         465   \n",
       "Unsure                              264        264         264   \n",
       "\n",
       "                mental_health_interview  phys_health_interview  \\\n",
       "work_interfere                                                   \n",
       "Never                               213                    213   \n",
       "Often                               142                    142   \n",
       "Rarely                              173                    173   \n",
       "Sometimes                           465                    465   \n",
       "Unsure                              264                    264   \n",
       "\n",
       "                mental_vs_physical  obs_consequence  Age_cat  \n",
       "work_interfere                                                \n",
       "Never                          213              213      213  \n",
       "Often                          142              142      142  \n",
       "Rarely                         173              173      173  \n",
       "Sometimes                      465              465      465  \n",
       "Unsure                         264              264      264  \n",
       "\n",
       "[5 rows x 23 columns]"
      ]
     },
     "execution_count": 216,
     "metadata": {},
     "output_type": "execute_result"
    }
   ],
   "source": [
    "df.groupby('work_interfere').count()"
   ]
  },
  {
   "cell_type": "markdown",
   "metadata": {},
   "source": [
    "## 3. Encoding Data\n",
    "For converting the labels into numeric form so as to convert it into the machine-readable form"
   ]
  },
  {
   "cell_type": "code",
   "execution_count": 217,
   "metadata": {},
   "outputs": [
    {
     "data": {
      "text/html": [
       "<div>\n",
       "<style scoped>\n",
       "    .dataframe tbody tr th:only-of-type {\n",
       "        vertical-align: middle;\n",
       "    }\n",
       "\n",
       "    .dataframe tbody tr th {\n",
       "        vertical-align: top;\n",
       "    }\n",
       "\n",
       "    .dataframe thead th {\n",
       "        text-align: right;\n",
       "    }\n",
       "</style>\n",
       "<table border=\"1\" class=\"dataframe\">\n",
       "  <thead>\n",
       "    <tr style=\"text-align: right;\">\n",
       "      <th></th>\n",
       "      <th>Age</th>\n",
       "      <th>Gender</th>\n",
       "      <th>self_employed</th>\n",
       "      <th>family_history</th>\n",
       "      <th>treatment</th>\n",
       "      <th>work_interfere</th>\n",
       "      <th>no_employees</th>\n",
       "      <th>remote_work</th>\n",
       "      <th>tech_company</th>\n",
       "      <th>benefits</th>\n",
       "      <th>...</th>\n",
       "      <th>leave</th>\n",
       "      <th>mental_health_consequence</th>\n",
       "      <th>phys_health_consequence</th>\n",
       "      <th>coworkers</th>\n",
       "      <th>supervisor</th>\n",
       "      <th>mental_health_interview</th>\n",
       "      <th>phys_health_interview</th>\n",
       "      <th>mental_vs_physical</th>\n",
       "      <th>obs_consequence</th>\n",
       "      <th>Age_cat</th>\n",
       "    </tr>\n",
       "  </thead>\n",
       "  <tbody>\n",
       "    <tr>\n",
       "      <th>0</th>\n",
       "      <td>37</td>\n",
       "      <td>female</td>\n",
       "      <td>No</td>\n",
       "      <td>No</td>\n",
       "      <td>Yes</td>\n",
       "      <td>Often</td>\n",
       "      <td>6-25</td>\n",
       "      <td>No</td>\n",
       "      <td>Yes</td>\n",
       "      <td>Yes</td>\n",
       "      <td>...</td>\n",
       "      <td>Somewhat easy</td>\n",
       "      <td>No</td>\n",
       "      <td>No</td>\n",
       "      <td>Some of them</td>\n",
       "      <td>Yes</td>\n",
       "      <td>No</td>\n",
       "      <td>Maybe</td>\n",
       "      <td>Yes</td>\n",
       "      <td>No</td>\n",
       "      <td>Adult</td>\n",
       "    </tr>\n",
       "    <tr>\n",
       "      <th>1</th>\n",
       "      <td>44</td>\n",
       "      <td>male</td>\n",
       "      <td>No</td>\n",
       "      <td>No</td>\n",
       "      <td>No</td>\n",
       "      <td>Rarely</td>\n",
       "      <td>More than 1000</td>\n",
       "      <td>No</td>\n",
       "      <td>No</td>\n",
       "      <td>Don't know</td>\n",
       "      <td>...</td>\n",
       "      <td>Don't know</td>\n",
       "      <td>Maybe</td>\n",
       "      <td>No</td>\n",
       "      <td>No</td>\n",
       "      <td>No</td>\n",
       "      <td>No</td>\n",
       "      <td>No</td>\n",
       "      <td>Don't know</td>\n",
       "      <td>No</td>\n",
       "      <td>Adult</td>\n",
       "    </tr>\n",
       "    <tr>\n",
       "      <th>2</th>\n",
       "      <td>32</td>\n",
       "      <td>male</td>\n",
       "      <td>No</td>\n",
       "      <td>No</td>\n",
       "      <td>No</td>\n",
       "      <td>Rarely</td>\n",
       "      <td>6-25</td>\n",
       "      <td>No</td>\n",
       "      <td>Yes</td>\n",
       "      <td>No</td>\n",
       "      <td>...</td>\n",
       "      <td>Somewhat difficult</td>\n",
       "      <td>No</td>\n",
       "      <td>No</td>\n",
       "      <td>Yes</td>\n",
       "      <td>Yes</td>\n",
       "      <td>Yes</td>\n",
       "      <td>Yes</td>\n",
       "      <td>No</td>\n",
       "      <td>No</td>\n",
       "      <td>Adult</td>\n",
       "    </tr>\n",
       "    <tr>\n",
       "      <th>3</th>\n",
       "      <td>31</td>\n",
       "      <td>male</td>\n",
       "      <td>No</td>\n",
       "      <td>Yes</td>\n",
       "      <td>Yes</td>\n",
       "      <td>Often</td>\n",
       "      <td>26-100</td>\n",
       "      <td>No</td>\n",
       "      <td>Yes</td>\n",
       "      <td>No</td>\n",
       "      <td>...</td>\n",
       "      <td>Somewhat difficult</td>\n",
       "      <td>Yes</td>\n",
       "      <td>Yes</td>\n",
       "      <td>Some of them</td>\n",
       "      <td>No</td>\n",
       "      <td>Maybe</td>\n",
       "      <td>Maybe</td>\n",
       "      <td>No</td>\n",
       "      <td>Yes</td>\n",
       "      <td>Adult</td>\n",
       "    </tr>\n",
       "    <tr>\n",
       "      <th>4</th>\n",
       "      <td>31</td>\n",
       "      <td>male</td>\n",
       "      <td>No</td>\n",
       "      <td>No</td>\n",
       "      <td>No</td>\n",
       "      <td>Never</td>\n",
       "      <td>100-500</td>\n",
       "      <td>Yes</td>\n",
       "      <td>Yes</td>\n",
       "      <td>Yes</td>\n",
       "      <td>...</td>\n",
       "      <td>Don't know</td>\n",
       "      <td>No</td>\n",
       "      <td>No</td>\n",
       "      <td>Some of them</td>\n",
       "      <td>Yes</td>\n",
       "      <td>Yes</td>\n",
       "      <td>Yes</td>\n",
       "      <td>Don't know</td>\n",
       "      <td>No</td>\n",
       "      <td>Adult</td>\n",
       "    </tr>\n",
       "  </tbody>\n",
       "</table>\n",
       "<p>5 rows × 24 columns</p>\n",
       "</div>"
      ],
      "text/plain": [
       "   Age  Gender self_employed family_history treatment work_interfere  \\\n",
       "0   37  female            No             No       Yes          Often   \n",
       "1   44    male            No             No        No         Rarely   \n",
       "2   32    male            No             No        No         Rarely   \n",
       "3   31    male            No            Yes       Yes          Often   \n",
       "4   31    male            No             No        No          Never   \n",
       "\n",
       "     no_employees remote_work tech_company    benefits  ...  \\\n",
       "0            6-25          No          Yes         Yes  ...   \n",
       "1  More than 1000          No           No  Don't know  ...   \n",
       "2            6-25          No          Yes          No  ...   \n",
       "3          26-100          No          Yes          No  ...   \n",
       "4         100-500         Yes          Yes         Yes  ...   \n",
       "\n",
       "                leave mental_health_consequence phys_health_consequence  \\\n",
       "0       Somewhat easy                        No                      No   \n",
       "1          Don't know                     Maybe                      No   \n",
       "2  Somewhat difficult                        No                      No   \n",
       "3  Somewhat difficult                       Yes                     Yes   \n",
       "4          Don't know                        No                      No   \n",
       "\n",
       "      coworkers supervisor mental_health_interview phys_health_interview  \\\n",
       "0  Some of them        Yes                      No                 Maybe   \n",
       "1            No         No                      No                    No   \n",
       "2           Yes        Yes                     Yes                   Yes   \n",
       "3  Some of them         No                   Maybe                 Maybe   \n",
       "4  Some of them        Yes                     Yes                   Yes   \n",
       "\n",
       "  mental_vs_physical obs_consequence Age_cat  \n",
       "0                Yes              No   Adult  \n",
       "1         Don't know              No   Adult  \n",
       "2                 No              No   Adult  \n",
       "3                 No             Yes   Adult  \n",
       "4         Don't know              No   Adult  \n",
       "\n",
       "[5 rows x 24 columns]"
      ]
     },
     "execution_count": 217,
     "metadata": {},
     "output_type": "execute_result"
    }
   ],
   "source": [
    "df.head()"
   ]
  },
  {
   "cell_type": "code",
   "execution_count": 218,
   "metadata": {},
   "outputs": [],
   "source": [
    "df[\"Gender_cat\"] = df[\"Gender\"].astype('category')\n",
    "df[\"Gender_cat\"] = df[\"Gender_cat\"].cat.codes\n",
    "#df[\"Country\"] = df[\"Country\"].astype('category')\n",
    "#df[\"Country\"] = df[\"Country\"].cat.codes\n",
    "df[\"self_employed\"] = df[\"self_employed\"].astype('category')\n",
    "df[\"self_employed\"] = df[\"self_employed\"].cat.codes\n",
    "df[\"family_history_cat\"] = df[\"family_history\"].astype('category')\n",
    "df[\"family_history_cat\"] = df[\"family_history_cat\"].cat.codes\n",
    "df[\"treatment_cat\"] = df[\"treatment\"].astype('category')\n",
    "df[\"treatment_cat\"] = df[\"treatment_cat\"].cat.codes\n",
    "df[\"work_interfere_cat\"] = df[\"work_interfere\"].astype('category')\n",
    "df[\"work_interfere_cat\"] = df[\"work_interfere_cat\"].cat.codes\n",
    "df[\"no_employees\"] = df[\"no_employees\"].astype('category')\n",
    "df[\"no_employees\"] = df[\"no_employees\"].cat.codes\n",
    "df[\"remote_work\"] = df[\"remote_work\"].astype('category')\n",
    "df[\"remote_work\"] = df[\"remote_work\"].cat.codes\n",
    "df[\"tech_company\"] = df[\"tech_company\"].astype('category')\n",
    "df[\"tech_company\"] = df[\"tech_company\"].cat.codes\n",
    "df[\"benefits_cat\"] = df[\"benefits\"].astype('category')\n",
    "df[\"benefits_cat\"] = df[\"benefits_cat\"].cat.codes\n",
    "df[\"care_options_cat\"] = df[\"care_options\"].astype('category')\n",
    "df[\"care_options_cat\"] = df[\"care_options_cat\"].cat.codes\n",
    "df[\"wellness_program\"] = df[\"wellness_program\"].astype('category')\n",
    "df[\"wellness_program\"] = df[\"wellness_program\"].cat.codes\n",
    "df[\"seek_help\"] = df[\"seek_help\"].astype('category')\n",
    "df[\"seek_help\"] = df[\"seek_help\"].cat.codes\n",
    "df[\"anonymity\"] = df[\"anonymity\"].astype('category')\n",
    "df[\"anonymity\"] = df[\"anonymity\"].cat.codes\n",
    "df[\"leave\"] = df[\"leave\"].astype('category')\n",
    "df[\"leave\"] = df[\"leave\"].cat.codes\n",
    "df[\"mental_health_consequence\"] = df[\"mental_health_consequence\"].astype('category')\n",
    "df[\"mental_health_consequence\"] = df[\"mental_health_consequence\"].cat.codes\n",
    "df[\"phys_health_consequence\"] = df[\"phys_health_consequence\"].astype('category')\n",
    "df[\"phys_health_consequence\"] = df[\"phys_health_consequence\"].cat.codes\n",
    "df[\"coworkers\"] = df[\"coworkers\"].astype('category')\n",
    "df[\"coworkers\"] = df[\"coworkers\"].cat.codes\n",
    "df[\"supervisor\"] = df[\"supervisor\"].astype('category')\n",
    "df[\"supervisor\"] = df[\"supervisor\"].cat.codes\n",
    "df[\"mental_health_interview\"] = df[\"mental_health_interview\"].astype('category')\n",
    "df[\"mental_health_interview\"] = df[\"mental_health_interview\"].cat.codes\n",
    "df[\"phys_health_interview\"] = df[\"phys_health_interview\"].astype('category')\n",
    "df[\"phys_health_interview\"] = df[\"phys_health_interview\"].cat.codes\n",
    "df[\"mental_vs_physical\"] = df[\"mental_vs_physical\"].astype('category')\n",
    "df[\"mental_vs_physical\"] = df[\"mental_vs_physical\"].cat.codes\n",
    "df[\"obs_consequence\"] = df[\"obs_consequence\"].astype('category')\n",
    "df[\"obs_consequence\"] = df[\"obs_consequence\"].cat.codes\n",
    "df[\"Age_cat_cat\"] = df[\"Age_cat\"].astype('category')\n",
    "df[\"Age_cat_cat\"] = df[\"Age_cat_cat\"].cat.codes"
   ]
  },
  {
   "cell_type": "code",
   "execution_count": 219,
   "metadata": {},
   "outputs": [
    {
     "data": {
      "text/plain": [
       "Age                             int64\n",
       "Gender                         object\n",
       "self_employed                    int8\n",
       "family_history                 object\n",
       "treatment                      object\n",
       "work_interfere                 object\n",
       "no_employees                     int8\n",
       "remote_work                      int8\n",
       "tech_company                     int8\n",
       "benefits                       object\n",
       "care_options                   object\n",
       "wellness_program                 int8\n",
       "seek_help                        int8\n",
       "anonymity                        int8\n",
       "leave                            int8\n",
       "mental_health_consequence        int8\n",
       "phys_health_consequence          int8\n",
       "coworkers                        int8\n",
       "supervisor                       int8\n",
       "mental_health_interview          int8\n",
       "phys_health_interview            int8\n",
       "mental_vs_physical               int8\n",
       "obs_consequence                  int8\n",
       "Age_cat                      category\n",
       "Gender_cat                       int8\n",
       "family_history_cat               int8\n",
       "treatment_cat                    int8\n",
       "work_interfere_cat               int8\n",
       "benefits_cat                     int8\n",
       "care_options_cat                 int8\n",
       "Age_cat_cat                      int8\n",
       "dtype: object"
      ]
     },
     "execution_count": 219,
     "metadata": {},
     "output_type": "execute_result"
    }
   ],
   "source": [
    "df.dtypes"
   ]
  },
  {
   "cell_type": "code",
   "execution_count": 220,
   "metadata": {},
   "outputs": [
    {
     "data": {
      "text/plain": [
       "Age                          0\n",
       "Gender                       0\n",
       "self_employed                0\n",
       "family_history               0\n",
       "treatment                    0\n",
       "work_interfere               0\n",
       "no_employees                 0\n",
       "remote_work                  0\n",
       "tech_company                 0\n",
       "benefits                     0\n",
       "care_options                 0\n",
       "wellness_program             0\n",
       "seek_help                    0\n",
       "anonymity                    0\n",
       "leave                        0\n",
       "mental_health_consequence    0\n",
       "phys_health_consequence      0\n",
       "coworkers                    0\n",
       "supervisor                   0\n",
       "mental_health_interview      0\n",
       "phys_health_interview        0\n",
       "mental_vs_physical           0\n",
       "obs_consequence              0\n",
       "Age_cat                      0\n",
       "Gender_cat                   0\n",
       "family_history_cat           0\n",
       "treatment_cat                0\n",
       "work_interfere_cat           0\n",
       "benefits_cat                 0\n",
       "care_options_cat             0\n",
       "Age_cat_cat                  0\n",
       "dtype: int64"
      ]
     },
     "execution_count": 220,
     "metadata": {},
     "output_type": "execute_result"
    }
   ],
   "source": [
    "#Checking for missing data\n",
    "df.isna().sum()"
   ]
  },
  {
   "cell_type": "code",
   "execution_count": 221,
   "metadata": {},
   "outputs": [
    {
     "data": {
      "text/html": [
       "<div>\n",
       "<style scoped>\n",
       "    .dataframe tbody tr th:only-of-type {\n",
       "        vertical-align: middle;\n",
       "    }\n",
       "\n",
       "    .dataframe tbody tr th {\n",
       "        vertical-align: top;\n",
       "    }\n",
       "\n",
       "    .dataframe thead th {\n",
       "        text-align: right;\n",
       "    }\n",
       "</style>\n",
       "<table border=\"1\" class=\"dataframe\">\n",
       "  <thead>\n",
       "    <tr style=\"text-align: right;\">\n",
       "      <th></th>\n",
       "      <th>Age</th>\n",
       "      <th>self_employed</th>\n",
       "      <th>no_employees</th>\n",
       "      <th>remote_work</th>\n",
       "      <th>tech_company</th>\n",
       "      <th>wellness_program</th>\n",
       "      <th>seek_help</th>\n",
       "      <th>anonymity</th>\n",
       "      <th>leave</th>\n",
       "      <th>mental_health_consequence</th>\n",
       "      <th>...</th>\n",
       "      <th>phys_health_interview</th>\n",
       "      <th>mental_vs_physical</th>\n",
       "      <th>obs_consequence</th>\n",
       "      <th>Gender_cat</th>\n",
       "      <th>family_history_cat</th>\n",
       "      <th>treatment_cat</th>\n",
       "      <th>work_interfere_cat</th>\n",
       "      <th>benefits_cat</th>\n",
       "      <th>care_options_cat</th>\n",
       "      <th>Age_cat_cat</th>\n",
       "    </tr>\n",
       "  </thead>\n",
       "  <tbody>\n",
       "    <tr>\n",
       "      <th>count</th>\n",
       "      <td>1257.000000</td>\n",
       "      <td>1257.000000</td>\n",
       "      <td>1257.000000</td>\n",
       "      <td>1257.000000</td>\n",
       "      <td>1257.000000</td>\n",
       "      <td>1257.000000</td>\n",
       "      <td>1257.000000</td>\n",
       "      <td>1257.000000</td>\n",
       "      <td>1257.000000</td>\n",
       "      <td>1257.000000</td>\n",
       "      <td>...</td>\n",
       "      <td>1257.000000</td>\n",
       "      <td>1257.000000</td>\n",
       "      <td>1257.000000</td>\n",
       "      <td>1257.000000</td>\n",
       "      <td>1257.000000</td>\n",
       "      <td>1257.000000</td>\n",
       "      <td>1257.000000</td>\n",
       "      <td>1257.000000</td>\n",
       "      <td>1257.000000</td>\n",
       "      <td>1257.000000</td>\n",
       "    </tr>\n",
       "    <tr>\n",
       "      <th>mean</th>\n",
       "      <td>32.035004</td>\n",
       "      <td>0.114558</td>\n",
       "      <td>2.787589</td>\n",
       "      <td>0.297534</td>\n",
       "      <td>0.818616</td>\n",
       "      <td>1.031026</td>\n",
       "      <td>0.908512</td>\n",
       "      <td>0.645187</td>\n",
       "      <td>1.406523</td>\n",
       "      <td>0.851233</td>\n",
       "      <td>...</td>\n",
       "      <td>0.715990</td>\n",
       "      <td>0.813047</td>\n",
       "      <td>0.144789</td>\n",
       "      <td>0.818616</td>\n",
       "      <td>0.389817</td>\n",
       "      <td>0.505171</td>\n",
       "      <td>2.338107</td>\n",
       "      <td>1.053302</td>\n",
       "      <td>0.953063</td>\n",
       "      <td>0.996022</td>\n",
       "    </tr>\n",
       "    <tr>\n",
       "      <th>std</th>\n",
       "      <td>7.335156</td>\n",
       "      <td>0.318615</td>\n",
       "      <td>1.738082</td>\n",
       "      <td>0.457355</td>\n",
       "      <td>0.385490</td>\n",
       "      <td>0.573978</td>\n",
       "      <td>0.691439</td>\n",
       "      <td>0.907222</td>\n",
       "      <td>1.506162</td>\n",
       "      <td>0.767150</td>\n",
       "      <td>...</td>\n",
       "      <td>0.722483</td>\n",
       "      <td>0.833736</td>\n",
       "      <td>0.352028</td>\n",
       "      <td>0.422915</td>\n",
       "      <td>0.487903</td>\n",
       "      <td>0.500172</td>\n",
       "      <td>1.374038</td>\n",
       "      <td>0.836769</td>\n",
       "      <td>0.865212</td>\n",
       "      <td>0.101659</td>\n",
       "    </tr>\n",
       "    <tr>\n",
       "      <th>min</th>\n",
       "      <td>5.000000</td>\n",
       "      <td>0.000000</td>\n",
       "      <td>0.000000</td>\n",
       "      <td>0.000000</td>\n",
       "      <td>0.000000</td>\n",
       "      <td>0.000000</td>\n",
       "      <td>0.000000</td>\n",
       "      <td>0.000000</td>\n",
       "      <td>0.000000</td>\n",
       "      <td>0.000000</td>\n",
       "      <td>...</td>\n",
       "      <td>0.000000</td>\n",
       "      <td>0.000000</td>\n",
       "      <td>0.000000</td>\n",
       "      <td>0.000000</td>\n",
       "      <td>0.000000</td>\n",
       "      <td>0.000000</td>\n",
       "      <td>0.000000</td>\n",
       "      <td>0.000000</td>\n",
       "      <td>0.000000</td>\n",
       "      <td>0.000000</td>\n",
       "    </tr>\n",
       "    <tr>\n",
       "      <th>25%</th>\n",
       "      <td>27.000000</td>\n",
       "      <td>0.000000</td>\n",
       "      <td>1.000000</td>\n",
       "      <td>0.000000</td>\n",
       "      <td>1.000000</td>\n",
       "      <td>1.000000</td>\n",
       "      <td>0.000000</td>\n",
       "      <td>0.000000</td>\n",
       "      <td>0.000000</td>\n",
       "      <td>0.000000</td>\n",
       "      <td>...</td>\n",
       "      <td>0.000000</td>\n",
       "      <td>0.000000</td>\n",
       "      <td>0.000000</td>\n",
       "      <td>1.000000</td>\n",
       "      <td>0.000000</td>\n",
       "      <td>0.000000</td>\n",
       "      <td>1.000000</td>\n",
       "      <td>0.000000</td>\n",
       "      <td>0.000000</td>\n",
       "      <td>1.000000</td>\n",
       "    </tr>\n",
       "    <tr>\n",
       "      <th>50%</th>\n",
       "      <td>31.000000</td>\n",
       "      <td>0.000000</td>\n",
       "      <td>3.000000</td>\n",
       "      <td>0.000000</td>\n",
       "      <td>1.000000</td>\n",
       "      <td>1.000000</td>\n",
       "      <td>1.000000</td>\n",
       "      <td>0.000000</td>\n",
       "      <td>1.000000</td>\n",
       "      <td>1.000000</td>\n",
       "      <td>...</td>\n",
       "      <td>1.000000</td>\n",
       "      <td>1.000000</td>\n",
       "      <td>0.000000</td>\n",
       "      <td>1.000000</td>\n",
       "      <td>0.000000</td>\n",
       "      <td>1.000000</td>\n",
       "      <td>3.000000</td>\n",
       "      <td>1.000000</td>\n",
       "      <td>1.000000</td>\n",
       "      <td>1.000000</td>\n",
       "    </tr>\n",
       "    <tr>\n",
       "      <th>75%</th>\n",
       "      <td>36.000000</td>\n",
       "      <td>0.000000</td>\n",
       "      <td>4.000000</td>\n",
       "      <td>1.000000</td>\n",
       "      <td>1.000000</td>\n",
       "      <td>1.000000</td>\n",
       "      <td>1.000000</td>\n",
       "      <td>2.000000</td>\n",
       "      <td>2.000000</td>\n",
       "      <td>1.000000</td>\n",
       "      <td>...</td>\n",
       "      <td>1.000000</td>\n",
       "      <td>2.000000</td>\n",
       "      <td>0.000000</td>\n",
       "      <td>1.000000</td>\n",
       "      <td>1.000000</td>\n",
       "      <td>1.000000</td>\n",
       "      <td>3.000000</td>\n",
       "      <td>2.000000</td>\n",
       "      <td>2.000000</td>\n",
       "      <td>1.000000</td>\n",
       "    </tr>\n",
       "    <tr>\n",
       "      <th>max</th>\n",
       "      <td>72.000000</td>\n",
       "      <td>1.000000</td>\n",
       "      <td>5.000000</td>\n",
       "      <td>1.000000</td>\n",
       "      <td>1.000000</td>\n",
       "      <td>2.000000</td>\n",
       "      <td>2.000000</td>\n",
       "      <td>2.000000</td>\n",
       "      <td>4.000000</td>\n",
       "      <td>2.000000</td>\n",
       "      <td>...</td>\n",
       "      <td>2.000000</td>\n",
       "      <td>2.000000</td>\n",
       "      <td>1.000000</td>\n",
       "      <td>2.000000</td>\n",
       "      <td>1.000000</td>\n",
       "      <td>1.000000</td>\n",
       "      <td>4.000000</td>\n",
       "      <td>2.000000</td>\n",
       "      <td>2.000000</td>\n",
       "      <td>2.000000</td>\n",
       "    </tr>\n",
       "  </tbody>\n",
       "</table>\n",
       "<p>8 rows × 24 columns</p>\n",
       "</div>"
      ],
      "text/plain": [
       "               Age  self_employed  no_employees  remote_work  tech_company  \\\n",
       "count  1257.000000    1257.000000   1257.000000  1257.000000   1257.000000   \n",
       "mean     32.035004       0.114558      2.787589     0.297534      0.818616   \n",
       "std       7.335156       0.318615      1.738082     0.457355      0.385490   \n",
       "min       5.000000       0.000000      0.000000     0.000000      0.000000   \n",
       "25%      27.000000       0.000000      1.000000     0.000000      1.000000   \n",
       "50%      31.000000       0.000000      3.000000     0.000000      1.000000   \n",
       "75%      36.000000       0.000000      4.000000     1.000000      1.000000   \n",
       "max      72.000000       1.000000      5.000000     1.000000      1.000000   \n",
       "\n",
       "       wellness_program    seek_help    anonymity        leave  \\\n",
       "count       1257.000000  1257.000000  1257.000000  1257.000000   \n",
       "mean           1.031026     0.908512     0.645187     1.406523   \n",
       "std            0.573978     0.691439     0.907222     1.506162   \n",
       "min            0.000000     0.000000     0.000000     0.000000   \n",
       "25%            1.000000     0.000000     0.000000     0.000000   \n",
       "50%            1.000000     1.000000     0.000000     1.000000   \n",
       "75%            1.000000     1.000000     2.000000     2.000000   \n",
       "max            2.000000     2.000000     2.000000     4.000000   \n",
       "\n",
       "       mental_health_consequence  ...  phys_health_interview  \\\n",
       "count                1257.000000  ...            1257.000000   \n",
       "mean                    0.851233  ...               0.715990   \n",
       "std                     0.767150  ...               0.722483   \n",
       "min                     0.000000  ...               0.000000   \n",
       "25%                     0.000000  ...               0.000000   \n",
       "50%                     1.000000  ...               1.000000   \n",
       "75%                     1.000000  ...               1.000000   \n",
       "max                     2.000000  ...               2.000000   \n",
       "\n",
       "       mental_vs_physical  obs_consequence   Gender_cat  family_history_cat  \\\n",
       "count         1257.000000      1257.000000  1257.000000         1257.000000   \n",
       "mean             0.813047         0.144789     0.818616            0.389817   \n",
       "std              0.833736         0.352028     0.422915            0.487903   \n",
       "min              0.000000         0.000000     0.000000            0.000000   \n",
       "25%              0.000000         0.000000     1.000000            0.000000   \n",
       "50%              1.000000         0.000000     1.000000            0.000000   \n",
       "75%              2.000000         0.000000     1.000000            1.000000   \n",
       "max              2.000000         1.000000     2.000000            1.000000   \n",
       "\n",
       "       treatment_cat  work_interfere_cat  benefits_cat  care_options_cat  \\\n",
       "count    1257.000000         1257.000000   1257.000000       1257.000000   \n",
       "mean        0.505171            2.338107      1.053302          0.953063   \n",
       "std         0.500172            1.374038      0.836769          0.865212   \n",
       "min         0.000000            0.000000      0.000000          0.000000   \n",
       "25%         0.000000            1.000000      0.000000          0.000000   \n",
       "50%         1.000000            3.000000      1.000000          1.000000   \n",
       "75%         1.000000            3.000000      2.000000          2.000000   \n",
       "max         1.000000            4.000000      2.000000          2.000000   \n",
       "\n",
       "       Age_cat_cat  \n",
       "count  1257.000000  \n",
       "mean      0.996022  \n",
       "std       0.101659  \n",
       "min       0.000000  \n",
       "25%       1.000000  \n",
       "50%       1.000000  \n",
       "75%       1.000000  \n",
       "max       2.000000  \n",
       "\n",
       "[8 rows x 24 columns]"
      ]
     },
     "execution_count": 221,
     "metadata": {},
     "output_type": "execute_result"
    }
   ],
   "source": [
    "df.describe()"
   ]
  },
  {
   "cell_type": "markdown",
   "metadata": {},
   "source": [
    "## 4. Feature importance"
   ]
  },
  {
   "cell_type": "code",
   "execution_count": 222,
   "metadata": {},
   "outputs": [
    {
     "data": {
      "image/png": "[encoded data removed]",
      "text/plain": [
       "<Figure size 864x648 with 2 Axes>"
      ]
     },
     "metadata": {
      "needs_background": "light"
     },
     "output_type": "display_data"
    }
   ],
   "source": [
    "corr_matrix = df.corr()\n",
    "f, ax = plt.subplots(figsize=(12, 9))\n",
    "sns.heatmap(corr_matrix, vmax=.8, square=True);\n",
    "plt.show()"
   ]
  },
  {
   "cell_type": "code",
   "execution_count": 223,
   "metadata": {},
   "outputs": [
    {
     "data": {
      "text/html": [
       "<div>\n",
       "<style scoped>\n",
       "    .dataframe tbody tr th:only-of-type {\n",
       "        vertical-align: middle;\n",
       "    }\n",
       "\n",
       "    .dataframe tbody tr th {\n",
       "        vertical-align: top;\n",
       "    }\n",
       "\n",
       "    .dataframe thead th {\n",
       "        text-align: right;\n",
       "    }\n",
       "</style>\n",
       "<table border=\"1\" class=\"dataframe\">\n",
       "  <thead>\n",
       "    <tr style=\"text-align: right;\">\n",
       "      <th></th>\n",
       "      <th>Age</th>\n",
       "      <th>self_employed</th>\n",
       "      <th>no_employees</th>\n",
       "      <th>remote_work</th>\n",
       "      <th>tech_company</th>\n",
       "      <th>wellness_program</th>\n",
       "      <th>seek_help</th>\n",
       "      <th>anonymity</th>\n",
       "      <th>leave</th>\n",
       "      <th>mental_health_consequence</th>\n",
       "      <th>...</th>\n",
       "      <th>phys_health_interview</th>\n",
       "      <th>mental_vs_physical</th>\n",
       "      <th>obs_consequence</th>\n",
       "      <th>Gender_cat</th>\n",
       "      <th>family_history_cat</th>\n",
       "      <th>treatment_cat</th>\n",
       "      <th>work_interfere_cat</th>\n",
       "      <th>benefits_cat</th>\n",
       "      <th>care_options_cat</th>\n",
       "      <th>Age_cat_cat</th>\n",
       "    </tr>\n",
       "  </thead>\n",
       "  <tbody>\n",
       "    <tr>\n",
       "      <th>Age</th>\n",
       "      <td>1.000000</td>\n",
       "      <td>0.066758</td>\n",
       "      <td>0.035805</td>\n",
       "      <td>0.143324</td>\n",
       "      <td>-0.059417</td>\n",
       "      <td>0.099968</td>\n",
       "      <td>0.130769</td>\n",
       "      <td>0.023045</td>\n",
       "      <td>-0.014621</td>\n",
       "      <td>0.025404</td>\n",
       "      <td>...</td>\n",
       "      <td>-0.021109</td>\n",
       "      <td>-0.018848</td>\n",
       "      <td>0.072345</td>\n",
       "      <td>0.054919</td>\n",
       "      <td>0.013314</td>\n",
       "      <td>0.077858</td>\n",
       "      <td>-0.053075</td>\n",
       "      <td>0.157301</td>\n",
       "      <td>0.104259</td>\n",
       "      <td>0.297013</td>\n",
       "    </tr>\n",
       "    <tr>\n",
       "      <th>self_employed</th>\n",
       "      <td>0.066758</td>\n",
       "      <td>1.000000</td>\n",
       "      <td>-0.339895</td>\n",
       "      <td>0.312281</td>\n",
       "      <td>0.078562</td>\n",
       "      <td>0.002317</td>\n",
       "      <td>0.036770</td>\n",
       "      <td>0.102170</td>\n",
       "      <td>0.173311</td>\n",
       "      <td>0.024177</td>\n",
       "      <td>...</td>\n",
       "      <td>-0.028025</td>\n",
       "      <td>0.134638</td>\n",
       "      <td>0.072052</td>\n",
       "      <td>0.042066</td>\n",
       "      <td>0.004437</td>\n",
       "      <td>0.016264</td>\n",
       "      <td>-0.041260</td>\n",
       "      <td>-0.055771</td>\n",
       "      <td>0.042626</td>\n",
       "      <td>0.038661</td>\n",
       "    </tr>\n",
       "    <tr>\n",
       "      <th>no_employees</th>\n",
       "      <td>0.035805</td>\n",
       "      <td>-0.339895</td>\n",
       "      <td>1.000000</td>\n",
       "      <td>-0.208888</td>\n",
       "      <td>-0.111023</td>\n",
       "      <td>0.091207</td>\n",
       "      <td>0.067292</td>\n",
       "      <td>-0.004915</td>\n",
       "      <td>-0.094118</td>\n",
       "      <td>-0.007596</td>\n",
       "      <td>...</td>\n",
       "      <td>0.030541</td>\n",
       "      <td>-0.027426</td>\n",
       "      <td>-0.014758</td>\n",
       "      <td>0.022281</td>\n",
       "      <td>-0.050623</td>\n",
       "      <td>-0.047733</td>\n",
       "      <td>0.022761</td>\n",
       "      <td>0.118373</td>\n",
       "      <td>-0.005576</td>\n",
       "      <td>0.044781</td>\n",
       "    </tr>\n",
       "    <tr>\n",
       "      <th>remote_work</th>\n",
       "      <td>0.143324</td>\n",
       "      <td>0.312281</td>\n",
       "      <td>-0.208888</td>\n",
       "      <td>1.000000</td>\n",
       "      <td>0.130228</td>\n",
       "      <td>-0.077654</td>\n",
       "      <td>-0.037221</td>\n",
       "      <td>-0.006332</td>\n",
       "      <td>0.095886</td>\n",
       "      <td>0.051372</td>\n",
       "      <td>...</td>\n",
       "      <td>-0.018747</td>\n",
       "      <td>0.033242</td>\n",
       "      <td>-0.045254</td>\n",
       "      <td>-0.000668</td>\n",
       "      <td>0.011448</td>\n",
       "      <td>0.024593</td>\n",
       "      <td>-0.000572</td>\n",
       "      <td>-0.064357</td>\n",
       "      <td>0.007152</td>\n",
       "      <td>-0.008773</td>\n",
       "    </tr>\n",
       "    <tr>\n",
       "      <th>tech_company</th>\n",
       "      <td>-0.059417</td>\n",
       "      <td>0.078562</td>\n",
       "      <td>-0.111023</td>\n",
       "      <td>0.130228</td>\n",
       "      <td>1.000000</td>\n",
       "      <td>-0.118479</td>\n",
       "      <td>-0.068282</td>\n",
       "      <td>-0.052128</td>\n",
       "      <td>0.046195</td>\n",
       "      <td>0.000218</td>\n",
       "      <td>...</td>\n",
       "      <td>-0.033602</td>\n",
       "      <td>0.028178</td>\n",
       "      <td>-0.064468</td>\n",
       "      <td>0.061751</td>\n",
       "      <td>-0.047080</td>\n",
       "      <td>-0.032295</td>\n",
       "      <td>0.006145</td>\n",
       "      <td>-0.046520</td>\n",
       "      <td>-0.027933</td>\n",
       "      <td>-0.038742</td>\n",
       "    </tr>\n",
       "    <tr>\n",
       "      <th>wellness_program</th>\n",
       "      <td>0.099968</td>\n",
       "      <td>0.002317</td>\n",
       "      <td>0.091207</td>\n",
       "      <td>-0.077654</td>\n",
       "      <td>-0.118479</td>\n",
       "      <td>1.000000</td>\n",
       "      <td>0.464558</td>\n",
       "      <td>0.229099</td>\n",
       "      <td>0.082100</td>\n",
       "      <td>0.052078</td>\n",
       "      <td>...</td>\n",
       "      <td>-0.015213</td>\n",
       "      <td>0.120274</td>\n",
       "      <td>0.095961</td>\n",
       "      <td>-0.003037</td>\n",
       "      <td>0.061970</td>\n",
       "      <td>0.092346</td>\n",
       "      <td>-0.022397</td>\n",
       "      <td>0.321466</td>\n",
       "      <td>0.208147</td>\n",
       "      <td>0.002117</td>\n",
       "    </tr>\n",
       "    <tr>\n",
       "      <th>seek_help</th>\n",
       "      <td>0.130769</td>\n",
       "      <td>0.036770</td>\n",
       "      <td>0.067292</td>\n",
       "      <td>-0.037221</td>\n",
       "      <td>-0.068282</td>\n",
       "      <td>0.464558</td>\n",
       "      <td>1.000000</td>\n",
       "      <td>0.321366</td>\n",
       "      <td>0.130541</td>\n",
       "      <td>0.043366</td>\n",
       "      <td>...</td>\n",
       "      <td>0.056322</td>\n",
       "      <td>0.171948</td>\n",
       "      <td>0.129697</td>\n",
       "      <td>-0.007785</td>\n",
       "      <td>0.042077</td>\n",
       "      <td>0.087700</td>\n",
       "      <td>-0.005127</td>\n",
       "      <td>0.377231</td>\n",
       "      <td>0.258989</td>\n",
       "      <td>0.062780</td>\n",
       "    </tr>\n",
       "    <tr>\n",
       "      <th>anonymity</th>\n",
       "      <td>0.023045</td>\n",
       "      <td>0.102170</td>\n",
       "      <td>-0.004915</td>\n",
       "      <td>-0.006332</td>\n",
       "      <td>-0.052128</td>\n",
       "      <td>0.229099</td>\n",
       "      <td>0.321366</td>\n",
       "      <td>1.000000</td>\n",
       "      <td>0.284525</td>\n",
       "      <td>0.013327</td>\n",
       "      <td>...</td>\n",
       "      <td>0.027126</td>\n",
       "      <td>0.291172</td>\n",
       "      <td>0.048803</td>\n",
       "      <td>-0.020538</td>\n",
       "      <td>0.060902</td>\n",
       "      <td>0.140905</td>\n",
       "      <td>0.028611</td>\n",
       "      <td>0.335376</td>\n",
       "      <td>0.345950</td>\n",
       "      <td>-0.023948</td>\n",
       "    </tr>\n",
       "    <tr>\n",
       "      <th>leave</th>\n",
       "      <td>-0.014621</td>\n",
       "      <td>0.173311</td>\n",
       "      <td>-0.094118</td>\n",
       "      <td>0.095886</td>\n",
       "      <td>0.046195</td>\n",
       "      <td>0.082100</td>\n",
       "      <td>0.130541</td>\n",
       "      <td>0.284525</td>\n",
       "      <td>1.000000</td>\n",
       "      <td>0.082012</td>\n",
       "      <td>...</td>\n",
       "      <td>0.018386</td>\n",
       "      <td>0.311647</td>\n",
       "      <td>0.012032</td>\n",
       "      <td>0.037107</td>\n",
       "      <td>0.019289</td>\n",
       "      <td>0.059034</td>\n",
       "      <td>-0.006837</td>\n",
       "      <td>0.063023</td>\n",
       "      <td>0.142346</td>\n",
       "      <td>-0.025830</td>\n",
       "    </tr>\n",
       "    <tr>\n",
       "      <th>mental_health_consequence</th>\n",
       "      <td>0.025404</td>\n",
       "      <td>0.024177</td>\n",
       "      <td>-0.007596</td>\n",
       "      <td>0.051372</td>\n",
       "      <td>0.000218</td>\n",
       "      <td>0.052078</td>\n",
       "      <td>0.043366</td>\n",
       "      <td>0.013327</td>\n",
       "      <td>0.082012</td>\n",
       "      <td>1.000000</td>\n",
       "      <td>...</td>\n",
       "      <td>-0.015959</td>\n",
       "      <td>0.063535</td>\n",
       "      <td>0.126994</td>\n",
       "      <td>0.032101</td>\n",
       "      <td>0.025304</td>\n",
       "      <td>0.027943</td>\n",
       "      <td>-0.022489</td>\n",
       "      <td>-0.012443</td>\n",
       "      <td>0.001467</td>\n",
       "      <td>-0.048430</td>\n",
       "    </tr>\n",
       "    <tr>\n",
       "      <th>phys_health_consequence</th>\n",
       "      <td>-0.054038</td>\n",
       "      <td>0.018109</td>\n",
       "      <td>-0.069364</td>\n",
       "      <td>-0.015531</td>\n",
       "      <td>0.064646</td>\n",
       "      <td>-0.015328</td>\n",
       "      <td>0.003375</td>\n",
       "      <td>0.054400</td>\n",
       "      <td>0.080633</td>\n",
       "      <td>0.128716</td>\n",
       "      <td>...</td>\n",
       "      <td>0.068655</td>\n",
       "      <td>0.108255</td>\n",
       "      <td>-0.037369</td>\n",
       "      <td>0.027879</td>\n",
       "      <td>-0.001948</td>\n",
       "      <td>-0.012776</td>\n",
       "      <td>-0.041383</td>\n",
       "      <td>-0.032547</td>\n",
       "      <td>0.034060</td>\n",
       "      <td>-0.013743</td>\n",
       "    </tr>\n",
       "    <tr>\n",
       "      <th>coworkers</th>\n",
       "      <td>-0.011864</td>\n",
       "      <td>0.069544</td>\n",
       "      <td>-0.086420</td>\n",
       "      <td>0.078716</td>\n",
       "      <td>0.074318</td>\n",
       "      <td>-0.010866</td>\n",
       "      <td>0.055053</td>\n",
       "      <td>0.064991</td>\n",
       "      <td>0.180102</td>\n",
       "      <td>-0.158341</td>\n",
       "      <td>...</td>\n",
       "      <td>0.064921</td>\n",
       "      <td>0.185129</td>\n",
       "      <td>-0.046162</td>\n",
       "      <td>0.049506</td>\n",
       "      <td>-0.004154</td>\n",
       "      <td>0.066022</td>\n",
       "      <td>-0.000458</td>\n",
       "      <td>-0.009259</td>\n",
       "      <td>0.027132</td>\n",
       "      <td>0.010783</td>\n",
       "    </tr>\n",
       "    <tr>\n",
       "      <th>supervisor</th>\n",
       "      <td>0.006655</td>\n",
       "      <td>0.032966</td>\n",
       "      <td>-0.050076</td>\n",
       "      <td>0.022677</td>\n",
       "      <td>0.048796</td>\n",
       "      <td>0.036548</td>\n",
       "      <td>0.077833</td>\n",
       "      <td>0.147529</td>\n",
       "      <td>0.202734</td>\n",
       "      <td>-0.156109</td>\n",
       "      <td>...</td>\n",
       "      <td>0.080094</td>\n",
       "      <td>0.223518</td>\n",
       "      <td>-0.095148</td>\n",
       "      <td>0.066775</td>\n",
       "      <td>0.001608</td>\n",
       "      <td>-0.037944</td>\n",
       "      <td>-0.007488</td>\n",
       "      <td>0.024286</td>\n",
       "      <td>0.080303</td>\n",
       "      <td>0.032293</td>\n",
       "    </tr>\n",
       "    <tr>\n",
       "      <th>mental_health_interview</th>\n",
       "      <td>0.060663</td>\n",
       "      <td>-0.018195</td>\n",
       "      <td>0.019329</td>\n",
       "      <td>-0.036445</td>\n",
       "      <td>-0.043344</td>\n",
       "      <td>0.046035</td>\n",
       "      <td>0.029513</td>\n",
       "      <td>-0.009374</td>\n",
       "      <td>-0.073212</td>\n",
       "      <td>0.052334</td>\n",
       "      <td>...</td>\n",
       "      <td>0.197216</td>\n",
       "      <td>-0.107398</td>\n",
       "      <td>0.079157</td>\n",
       "      <td>-0.039508</td>\n",
       "      <td>0.039583</td>\n",
       "      <td>0.094859</td>\n",
       "      <td>0.025588</td>\n",
       "      <td>0.033088</td>\n",
       "      <td>0.032996</td>\n",
       "      <td>-0.030491</td>\n",
       "    </tr>\n",
       "    <tr>\n",
       "      <th>phys_health_interview</th>\n",
       "      <td>-0.021109</td>\n",
       "      <td>-0.028025</td>\n",
       "      <td>0.030541</td>\n",
       "      <td>-0.018747</td>\n",
       "      <td>-0.033602</td>\n",
       "      <td>-0.015213</td>\n",
       "      <td>0.056322</td>\n",
       "      <td>0.027126</td>\n",
       "      <td>0.018386</td>\n",
       "      <td>-0.015959</td>\n",
       "      <td>...</td>\n",
       "      <td>1.000000</td>\n",
       "      <td>0.013558</td>\n",
       "      <td>0.005290</td>\n",
       "      <td>-0.014994</td>\n",
       "      <td>0.036510</td>\n",
       "      <td>0.049234</td>\n",
       "      <td>0.016605</td>\n",
       "      <td>0.022426</td>\n",
       "      <td>0.018142</td>\n",
       "      <td>0.006287</td>\n",
       "    </tr>\n",
       "    <tr>\n",
       "      <th>mental_vs_physical</th>\n",
       "      <td>-0.018848</td>\n",
       "      <td>0.134638</td>\n",
       "      <td>-0.027426</td>\n",
       "      <td>0.033242</td>\n",
       "      <td>0.028178</td>\n",
       "      <td>0.120274</td>\n",
       "      <td>0.171948</td>\n",
       "      <td>0.291172</td>\n",
       "      <td>0.311647</td>\n",
       "      <td>0.063535</td>\n",
       "      <td>...</td>\n",
       "      <td>0.013558</td>\n",
       "      <td>1.000000</td>\n",
       "      <td>0.019058</td>\n",
       "      <td>-0.008186</td>\n",
       "      <td>0.038376</td>\n",
       "      <td>0.060552</td>\n",
       "      <td>-0.005939</td>\n",
       "      <td>0.137549</td>\n",
       "      <td>0.160006</td>\n",
       "      <td>0.019400</td>\n",
       "    </tr>\n",
       "    <tr>\n",
       "      <th>obs_consequence</th>\n",
       "      <td>0.072345</td>\n",
       "      <td>0.072052</td>\n",
       "      <td>-0.014758</td>\n",
       "      <td>-0.045254</td>\n",
       "      <td>-0.064468</td>\n",
       "      <td>0.095961</td>\n",
       "      <td>0.129697</td>\n",
       "      <td>0.048803</td>\n",
       "      <td>0.012032</td>\n",
       "      <td>0.126994</td>\n",
       "      <td>...</td>\n",
       "      <td>0.005290</td>\n",
       "      <td>0.019058</td>\n",
       "      <td>1.000000</td>\n",
       "      <td>-0.042719</td>\n",
       "      <td>0.120771</td>\n",
       "      <td>0.154008</td>\n",
       "      <td>-0.017341</td>\n",
       "      <td>0.065678</td>\n",
       "      <td>0.069383</td>\n",
       "      <td>0.060602</td>\n",
       "    </tr>\n",
       "    <tr>\n",
       "      <th>Gender_cat</th>\n",
       "      <td>0.054919</td>\n",
       "      <td>0.042066</td>\n",
       "      <td>0.022281</td>\n",
       "      <td>-0.000668</td>\n",
       "      <td>0.061751</td>\n",
       "      <td>-0.003037</td>\n",
       "      <td>-0.007785</td>\n",
       "      <td>-0.020538</td>\n",
       "      <td>0.037107</td>\n",
       "      <td>0.032101</td>\n",
       "      <td>...</td>\n",
       "      <td>-0.014994</td>\n",
       "      <td>-0.008186</td>\n",
       "      <td>-0.042719</td>\n",
       "      <td>1.000000</td>\n",
       "      <td>-0.127802</td>\n",
       "      <td>-0.149882</td>\n",
       "      <td>-0.014950</td>\n",
       "      <td>-0.094150</td>\n",
       "      <td>-0.086386</td>\n",
       "      <td>-0.035314</td>\n",
       "    </tr>\n",
       "    <tr>\n",
       "      <th>family_history_cat</th>\n",
       "      <td>0.013314</td>\n",
       "      <td>0.004437</td>\n",
       "      <td>-0.050623</td>\n",
       "      <td>0.011448</td>\n",
       "      <td>-0.047080</td>\n",
       "      <td>0.061970</td>\n",
       "      <td>0.042077</td>\n",
       "      <td>0.060902</td>\n",
       "      <td>0.019289</td>\n",
       "      <td>0.025304</td>\n",
       "      <td>...</td>\n",
       "      <td>0.036510</td>\n",
       "      <td>0.038376</td>\n",
       "      <td>0.120771</td>\n",
       "      <td>-0.127802</td>\n",
       "      <td>1.000000</td>\n",
       "      <td>0.376714</td>\n",
       "      <td>0.019391</td>\n",
       "      <td>0.126531</td>\n",
       "      <td>0.105618</td>\n",
       "      <td>0.031287</td>\n",
       "    </tr>\n",
       "    <tr>\n",
       "      <th>treatment_cat</th>\n",
       "      <td>0.077858</td>\n",
       "      <td>0.016264</td>\n",
       "      <td>-0.047733</td>\n",
       "      <td>0.024593</td>\n",
       "      <td>-0.032295</td>\n",
       "      <td>0.092346</td>\n",
       "      <td>0.087700</td>\n",
       "      <td>0.140905</td>\n",
       "      <td>0.059034</td>\n",
       "      <td>0.027943</td>\n",
       "      <td>...</td>\n",
       "      <td>0.049234</td>\n",
       "      <td>0.060552</td>\n",
       "      <td>0.154008</td>\n",
       "      <td>-0.149882</td>\n",
       "      <td>0.376714</td>\n",
       "      <td>1.000000</td>\n",
       "      <td>-0.034404</td>\n",
       "      <td>0.224767</td>\n",
       "      <td>0.235135</td>\n",
       "      <td>0.023892</td>\n",
       "    </tr>\n",
       "    <tr>\n",
       "      <th>work_interfere_cat</th>\n",
       "      <td>-0.053075</td>\n",
       "      <td>-0.041260</td>\n",
       "      <td>0.022761</td>\n",
       "      <td>-0.000572</td>\n",
       "      <td>0.006145</td>\n",
       "      <td>-0.022397</td>\n",
       "      <td>-0.005127</td>\n",
       "      <td>0.028611</td>\n",
       "      <td>-0.006837</td>\n",
       "      <td>-0.022489</td>\n",
       "      <td>...</td>\n",
       "      <td>0.016605</td>\n",
       "      <td>-0.005939</td>\n",
       "      <td>-0.017341</td>\n",
       "      <td>-0.014950</td>\n",
       "      <td>0.019391</td>\n",
       "      <td>-0.034404</td>\n",
       "      <td>1.000000</td>\n",
       "      <td>-0.041308</td>\n",
       "      <td>-0.032851</td>\n",
       "      <td>-0.013164</td>\n",
       "    </tr>\n",
       "    <tr>\n",
       "      <th>benefits_cat</th>\n",
       "      <td>0.157301</td>\n",
       "      <td>-0.055771</td>\n",
       "      <td>0.118373</td>\n",
       "      <td>-0.064357</td>\n",
       "      <td>-0.046520</td>\n",
       "      <td>0.321466</td>\n",
       "      <td>0.377231</td>\n",
       "      <td>0.335376</td>\n",
       "      <td>0.063023</td>\n",
       "      <td>-0.012443</td>\n",
       "      <td>...</td>\n",
       "      <td>0.022426</td>\n",
       "      <td>0.137549</td>\n",
       "      <td>0.065678</td>\n",
       "      <td>-0.094150</td>\n",
       "      <td>0.126531</td>\n",
       "      <td>0.224767</td>\n",
       "      <td>-0.041308</td>\n",
       "      <td>1.000000</td>\n",
       "      <td>0.440048</td>\n",
       "      <td>0.058652</td>\n",
       "    </tr>\n",
       "    <tr>\n",
       "      <th>care_options_cat</th>\n",
       "      <td>0.104259</td>\n",
       "      <td>0.042626</td>\n",
       "      <td>-0.005576</td>\n",
       "      <td>0.007152</td>\n",
       "      <td>-0.027933</td>\n",
       "      <td>0.208147</td>\n",
       "      <td>0.258989</td>\n",
       "      <td>0.345950</td>\n",
       "      <td>0.142346</td>\n",
       "      <td>0.001467</td>\n",
       "      <td>...</td>\n",
       "      <td>0.018142</td>\n",
       "      <td>0.160006</td>\n",
       "      <td>0.069383</td>\n",
       "      <td>-0.086386</td>\n",
       "      <td>0.105618</td>\n",
       "      <td>0.235135</td>\n",
       "      <td>-0.032851</td>\n",
       "      <td>0.440048</td>\n",
       "      <td>1.000000</td>\n",
       "      <td>-0.002124</td>\n",
       "    </tr>\n",
       "    <tr>\n",
       "      <th>Age_cat_cat</th>\n",
       "      <td>0.297013</td>\n",
       "      <td>0.038661</td>\n",
       "      <td>0.044781</td>\n",
       "      <td>-0.008773</td>\n",
       "      <td>-0.038742</td>\n",
       "      <td>0.002117</td>\n",
       "      <td>0.062780</td>\n",
       "      <td>-0.023948</td>\n",
       "      <td>-0.025830</td>\n",
       "      <td>-0.048430</td>\n",
       "      <td>...</td>\n",
       "      <td>0.006287</td>\n",
       "      <td>0.019400</td>\n",
       "      <td>0.060602</td>\n",
       "      <td>-0.035314</td>\n",
       "      <td>0.031287</td>\n",
       "      <td>0.023892</td>\n",
       "      <td>-0.013164</td>\n",
       "      <td>0.058652</td>\n",
       "      <td>-0.002124</td>\n",
       "      <td>1.000000</td>\n",
       "    </tr>\n",
       "  </tbody>\n",
       "</table>\n",
       "<p>24 rows × 24 columns</p>\n",
       "</div>"
      ],
      "text/plain": [
       "                                Age  self_employed  no_employees  remote_work  \\\n",
       "Age                        1.000000       0.066758      0.035805     0.143324   \n",
       "self_employed              0.066758       1.000000     -0.339895     0.312281   \n",
       "no_employees               0.035805      -0.339895      1.000000    -0.208888   \n",
       "remote_work                0.143324       0.312281     -0.208888     1.000000   \n",
       "tech_company              -0.059417       0.078562     -0.111023     0.130228   \n",
       "wellness_program           0.099968       0.002317      0.091207    -0.077654   \n",
       "seek_help                  0.130769       0.036770      0.067292    -0.037221   \n",
       "anonymity                  0.023045       0.102170     -0.004915    -0.006332   \n",
       "leave                     -0.014621       0.173311     -0.094118     0.095886   \n",
       "mental_health_consequence  0.025404       0.024177     -0.007596     0.051372   \n",
       "phys_health_consequence   -0.054038       0.018109     -0.069364    -0.015531   \n",
       "coworkers                 -0.011864       0.069544     -0.086420     0.078716   \n",
       "supervisor                 0.006655       0.032966     -0.050076     0.022677   \n",
       "mental_health_interview    0.060663      -0.018195      0.019329    -0.036445   \n",
       "phys_health_interview     -0.021109      -0.028025      0.030541    -0.018747   \n",
       "mental_vs_physical        -0.018848       0.134638     -0.027426     0.033242   \n",
       "obs_consequence            0.072345       0.072052     -0.014758    -0.045254   \n",
       "Gender_cat                 0.054919       0.042066      0.022281    -0.000668   \n",
       "family_history_cat         0.013314       0.004437     -0.050623     0.011448   \n",
       "treatment_cat              0.077858       0.016264     -0.047733     0.024593   \n",
       "work_interfere_cat        -0.053075      -0.041260      0.022761    -0.000572   \n",
       "benefits_cat               0.157301      -0.055771      0.118373    -0.064357   \n",
       "care_options_cat           0.104259       0.042626     -0.005576     0.007152   \n",
       "Age_cat_cat                0.297013       0.038661      0.044781    -0.008773   \n",
       "\n",
       "                           tech_company  wellness_program  seek_help  \\\n",
       "Age                           -0.059417          0.099968   0.130769   \n",
       "self_employed                  0.078562          0.002317   0.036770   \n",
       "no_employees                  -0.111023          0.091207   0.067292   \n",
       "remote_work                    0.130228         -0.077654  -0.037221   \n",
       "tech_company                   1.000000         -0.118479  -0.068282   \n",
       "wellness_program              -0.118479          1.000000   0.464558   \n",
       "seek_help                     -0.068282          0.464558   1.000000   \n",
       "anonymity                     -0.052128          0.229099   0.321366   \n",
       "leave                          0.046195          0.082100   0.130541   \n",
       "mental_health_consequence      0.000218          0.052078   0.043366   \n",
       "phys_health_consequence        0.064646         -0.015328   0.003375   \n",
       "coworkers                      0.074318         -0.010866   0.055053   \n",
       "supervisor                     0.048796          0.036548   0.077833   \n",
       "mental_health_interview       -0.043344          0.046035   0.029513   \n",
       "phys_health_interview         -0.033602         -0.015213   0.056322   \n",
       "mental_vs_physical             0.028178          0.120274   0.171948   \n",
       "obs_consequence               -0.064468          0.095961   0.129697   \n",
       "Gender_cat                     0.061751         -0.003037  -0.007785   \n",
       "family_history_cat            -0.047080          0.061970   0.042077   \n",
       "treatment_cat                 -0.032295          0.092346   0.087700   \n",
       "work_interfere_cat             0.006145         -0.022397  -0.005127   \n",
       "benefits_cat                  -0.046520          0.321466   0.377231   \n",
       "care_options_cat              -0.027933          0.208147   0.258989   \n",
       "Age_cat_cat                   -0.038742          0.002117   0.062780   \n",
       "\n",
       "                           anonymity     leave  mental_health_consequence  \\\n",
       "Age                         0.023045 -0.014621                   0.025404   \n",
       "self_employed               0.102170  0.173311                   0.024177   \n",
       "no_employees               -0.004915 -0.094118                  -0.007596   \n",
       "remote_work                -0.006332  0.095886                   0.051372   \n",
       "tech_company               -0.052128  0.046195                   0.000218   \n",
       "wellness_program            0.229099  0.082100                   0.052078   \n",
       "seek_help                   0.321366  0.130541                   0.043366   \n",
       "anonymity                   1.000000  0.284525                   0.013327   \n",
       "leave                       0.284525  1.000000                   0.082012   \n",
       "mental_health_consequence   0.013327  0.082012                   1.000000   \n",
       "phys_health_consequence     0.054400  0.080633                   0.128716   \n",
       "coworkers                   0.064991  0.180102                  -0.158341   \n",
       "supervisor                  0.147529  0.202734                  -0.156109   \n",
       "mental_health_interview    -0.009374 -0.073212                   0.052334   \n",
       "phys_health_interview       0.027126  0.018386                  -0.015959   \n",
       "mental_vs_physical          0.291172  0.311647                   0.063535   \n",
       "obs_consequence             0.048803  0.012032                   0.126994   \n",
       "Gender_cat                 -0.020538  0.037107                   0.032101   \n",
       "family_history_cat          0.060902  0.019289                   0.025304   \n",
       "treatment_cat               0.140905  0.059034                   0.027943   \n",
       "work_interfere_cat          0.028611 -0.006837                  -0.022489   \n",
       "benefits_cat                0.335376  0.063023                  -0.012443   \n",
       "care_options_cat            0.345950  0.142346                   0.001467   \n",
       "Age_cat_cat                -0.023948 -0.025830                  -0.048430   \n",
       "\n",
       "                           ...  phys_health_interview  mental_vs_physical  \\\n",
       "Age                        ...              -0.021109           -0.018848   \n",
       "self_employed              ...              -0.028025            0.134638   \n",
       "no_employees               ...               0.030541           -0.027426   \n",
       "remote_work                ...              -0.018747            0.033242   \n",
       "tech_company               ...              -0.033602            0.028178   \n",
       "wellness_program           ...              -0.015213            0.120274   \n",
       "seek_help                  ...               0.056322            0.171948   \n",
       "anonymity                  ...               0.027126            0.291172   \n",
       "leave                      ...               0.018386            0.311647   \n",
       "mental_health_consequence  ...              -0.015959            0.063535   \n",
       "phys_health_consequence    ...               0.068655            0.108255   \n",
       "coworkers                  ...               0.064921            0.185129   \n",
       "supervisor                 ...               0.080094            0.223518   \n",
       "mental_health_interview    ...               0.197216           -0.107398   \n",
       "phys_health_interview      ...               1.000000            0.013558   \n",
       "mental_vs_physical         ...               0.013558            1.000000   \n",
       "obs_consequence            ...               0.005290            0.019058   \n",
       "Gender_cat                 ...              -0.014994           -0.008186   \n",
       "family_history_cat         ...               0.036510            0.038376   \n",
       "treatment_cat              ...               0.049234            0.060552   \n",
       "work_interfere_cat         ...               0.016605           -0.005939   \n",
       "benefits_cat               ...               0.022426            0.137549   \n",
       "care_options_cat           ...               0.018142            0.160006   \n",
       "Age_cat_cat                ...               0.006287            0.019400   \n",
       "\n",
       "                           obs_consequence  Gender_cat  family_history_cat  \\\n",
       "Age                               0.072345    0.054919            0.013314   \n",
       "self_employed                     0.072052    0.042066            0.004437   \n",
       "no_employees                     -0.014758    0.022281           -0.050623   \n",
       "remote_work                      -0.045254   -0.000668            0.011448   \n",
       "tech_company                     -0.064468    0.061751           -0.047080   \n",
       "wellness_program                  0.095961   -0.003037            0.061970   \n",
       "seek_help                         0.129697   -0.007785            0.042077   \n",
       "anonymity                         0.048803   -0.020538            0.060902   \n",
       "leave                             0.012032    0.037107            0.019289   \n",
       "mental_health_consequence         0.126994    0.032101            0.025304   \n",
       "phys_health_consequence          -0.037369    0.027879           -0.001948   \n",
       "coworkers                        -0.046162    0.049506           -0.004154   \n",
       "supervisor                       -0.095148    0.066775            0.001608   \n",
       "mental_health_interview           0.079157   -0.039508            0.039583   \n",
       "phys_health_interview             0.005290   -0.014994            0.036510   \n",
       "mental_vs_physical                0.019058   -0.008186            0.038376   \n",
       "obs_consequence                   1.000000   -0.042719            0.120771   \n",
       "Gender_cat                       -0.042719    1.000000           -0.127802   \n",
       "family_history_cat                0.120771   -0.127802            1.000000   \n",
       "treatment_cat                     0.154008   -0.149882            0.376714   \n",
       "work_interfere_cat               -0.017341   -0.014950            0.019391   \n",
       "benefits_cat                      0.065678   -0.094150            0.126531   \n",
       "care_options_cat                  0.069383   -0.086386            0.105618   \n",
       "Age_cat_cat                       0.060602   -0.035314            0.031287   \n",
       "\n",
       "                           treatment_cat  work_interfere_cat  benefits_cat  \\\n",
       "Age                             0.077858           -0.053075      0.157301   \n",
       "self_employed                   0.016264           -0.041260     -0.055771   \n",
       "no_employees                   -0.047733            0.022761      0.118373   \n",
       "remote_work                     0.024593           -0.000572     -0.064357   \n",
       "tech_company                   -0.032295            0.006145     -0.046520   \n",
       "wellness_program                0.092346           -0.022397      0.321466   \n",
       "seek_help                       0.087700           -0.005127      0.377231   \n",
       "anonymity                       0.140905            0.028611      0.335376   \n",
       "leave                           0.059034           -0.006837      0.063023   \n",
       "mental_health_consequence       0.027943           -0.022489     -0.012443   \n",
       "phys_health_consequence        -0.012776           -0.041383     -0.032547   \n",
       "coworkers                       0.066022           -0.000458     -0.009259   \n",
       "supervisor                     -0.037944           -0.007488      0.024286   \n",
       "mental_health_interview         0.094859            0.025588      0.033088   \n",
       "phys_health_interview           0.049234            0.016605      0.022426   \n",
       "mental_vs_physical              0.060552           -0.005939      0.137549   \n",
       "obs_consequence                 0.154008           -0.017341      0.065678   \n",
       "Gender_cat                     -0.149882           -0.014950     -0.094150   \n",
       "family_history_cat              0.376714            0.019391      0.126531   \n",
       "treatment_cat                   1.000000           -0.034404      0.224767   \n",
       "work_interfere_cat             -0.034404            1.000000     -0.041308   \n",
       "benefits_cat                    0.224767           -0.041308      1.000000   \n",
       "care_options_cat                0.235135           -0.032851      0.440048   \n",
       "Age_cat_cat                     0.023892           -0.013164      0.058652   \n",
       "\n",
       "                           care_options_cat  Age_cat_cat  \n",
       "Age                                0.104259     0.297013  \n",
       "self_employed                      0.042626     0.038661  \n",
       "no_employees                      -0.005576     0.044781  \n",
       "remote_work                        0.007152    -0.008773  \n",
       "tech_company                      -0.027933    -0.038742  \n",
       "wellness_program                   0.208147     0.002117  \n",
       "seek_help                          0.258989     0.062780  \n",
       "anonymity                          0.345950    -0.023948  \n",
       "leave                              0.142346    -0.025830  \n",
       "mental_health_consequence          0.001467    -0.048430  \n",
       "phys_health_consequence            0.034060    -0.013743  \n",
       "coworkers                          0.027132     0.010783  \n",
       "supervisor                         0.080303     0.032293  \n",
       "mental_health_interview            0.032996    -0.030491  \n",
       "phys_health_interview              0.018142     0.006287  \n",
       "mental_vs_physical                 0.160006     0.019400  \n",
       "obs_consequence                    0.069383     0.060602  \n",
       "Gender_cat                        -0.086386    -0.035314  \n",
       "family_history_cat                 0.105618     0.031287  \n",
       "treatment_cat                      0.235135     0.023892  \n",
       "work_interfere_cat                -0.032851    -0.013164  \n",
       "benefits_cat                       0.440048     0.058652  \n",
       "care_options_cat                   1.000000    -0.002124  \n",
       "Age_cat_cat                       -0.002124     1.000000  \n",
       "\n",
       "[24 rows x 24 columns]"
      ]
     },
     "execution_count": 223,
     "metadata": {},
     "output_type": "execute_result"
    }
   ],
   "source": [
    "# Our target variable is treatment, that is the patient needs treatment or not\n",
    "# Moderate correlation with family history and work interfere\n",
    "corr_matrix"
   ]
  },
  {
   "cell_type": "code",
   "execution_count": 224,
   "metadata": {},
   "outputs": [
    {
     "data": {
      "text/plain": [
       "Age                             int64\n",
       "Gender                         object\n",
       "self_employed                    int8\n",
       "family_history                 object\n",
       "treatment                      object\n",
       "work_interfere                 object\n",
       "no_employees                     int8\n",
       "remote_work                      int8\n",
       "tech_company                     int8\n",
       "benefits                       object\n",
       "care_options                   object\n",
       "wellness_program                 int8\n",
       "seek_help                        int8\n",
       "anonymity                        int8\n",
       "leave                            int8\n",
       "mental_health_consequence        int8\n",
       "phys_health_consequence          int8\n",
       "coworkers                        int8\n",
       "supervisor                       int8\n",
       "mental_health_interview          int8\n",
       "phys_health_interview            int8\n",
       "mental_vs_physical               int8\n",
       "obs_consequence                  int8\n",
       "Age_cat                      category\n",
       "Gender_cat                       int8\n",
       "family_history_cat               int8\n",
       "treatment_cat                    int8\n",
       "work_interfere_cat               int8\n",
       "benefits_cat                     int8\n",
       "care_options_cat                 int8\n",
       "Age_cat_cat                      int8\n",
       "dtype: object"
      ]
     },
     "execution_count": 224,
     "metadata": {},
     "output_type": "execute_result"
    }
   ],
   "source": [
    "df.dtypes"
   ]
  },
  {
   "cell_type": "code",
   "execution_count": 225,
   "metadata": {},
   "outputs": [
    {
     "data": {
      "text/plain": [
       "Index(['Age', 'Gender', 'self_employed', 'family_history', 'treatment',\n",
       "       'work_interfere', 'no_employees', 'remote_work', 'tech_company',\n",
       "       'benefits', 'care_options', 'wellness_program', 'seek_help',\n",
       "       'anonymity', 'leave', 'mental_health_consequence',\n",
       "       'phys_health_consequence', 'coworkers', 'supervisor',\n",
       "       'mental_health_interview', 'phys_health_interview',\n",
       "       'mental_vs_physical', 'obs_consequence', 'Age_cat', 'Gender_cat',\n",
       "       'family_history_cat', 'treatment_cat', 'work_interfere_cat',\n",
       "       'benefits_cat', 'care_options_cat', 'Age_cat_cat'],\n",
       "      dtype='object')"
      ]
     },
     "execution_count": 225,
     "metadata": {},
     "output_type": "execute_result"
    }
   ],
   "source": [
    "df.columns"
   ]
  },
  {
   "cell_type": "code",
   "execution_count": 226,
   "metadata": {},
   "outputs": [],
   "source": [
    "xx = df[['Age', 'self_employed', 'no_employees', 'remote_work', 'tech_company',\n",
    "         'wellness_program', 'seek_help',\n",
    "       'anonymity', 'leave', 'mental_health_consequence',\n",
    "       'phys_health_consequence', 'coworkers', 'supervisor',\n",
    "       'mental_health_interview', 'phys_health_interview',\n",
    "       'mental_vs_physical', 'obs_consequence', 'Gender_cat',\n",
    "       'family_history_cat', 'work_interfere_cat',\n",
    "       'benefits_cat', 'care_options_cat']]"
   ]
  },
  {
   "cell_type": "code",
   "execution_count": 227,
   "metadata": {},
   "outputs": [],
   "source": [
    "yy = df[[\"treatment\"]]"
   ]
  },
  {
   "cell_type": "code",
   "execution_count": 228,
   "metadata": {},
   "outputs": [
    {
     "name": "stderr",
     "output_type": "stream",
     "text": [
      "I:\\ana\\lib\\site-packages\\ipykernel_launcher.py:4: DataConversionWarning: A column-vector y was passed when a 1d array was expected. Please change the shape of y to (n_samples,), for example using ravel().\n",
      "  after removing the cwd from sys.path.\n"
     ]
    },
    {
     "data": {
      "text/plain": [
       "<matplotlib.axes._subplots.AxesSubplot at 0x26bc4ea6048>"
      ]
     },
     "execution_count": 228,
     "metadata": {},
     "output_type": "execute_result"
    },
    {
     "data": {
      "image/png": "[encoded data removed]",
      "text/plain": [
       "<Figure size 432x288 with 1 Axes>"
      ]
     },
     "metadata": {
      "needs_background": "light"
     },
     "output_type": "display_data"
    }
   ],
   "source": [
    "from sklearn.tree import DecisionTreeClassifier\n",
    "from sklearn.ensemble import RandomForestClassifier, ExtraTreesClassifier\n",
    "forest = ExtraTreesClassifier(n_estimators = 250, random_state = 0)\n",
    "forest.fit(xx, yy)\n",
    "feat_importances = pd.Series(forest.feature_importances_, index = xx.columns)\n",
    "feat_importances.nlargest(10).plot(kind='barh')"
   ]
  },
  {
   "cell_type": "markdown",
   "metadata": {},
   "source": [
    "## 5. EDA"
   ]
  },
  {
   "cell_type": "code",
   "execution_count": 229,
   "metadata": {},
   "outputs": [
    {
     "data": {
      "text/plain": [
       "Text(0.5, 1.0, 'People present in each category')"
      ]
     },
     "execution_count": 229,
     "metadata": {},
     "output_type": "execute_result"
    },
    {
     "data": {
      "image/png": "[encoded data removed]",
      "text/plain": [
       "<Figure size 432x288 with 1 Axes>"
      ]
     },
     "metadata": {
      "needs_background": "light"
     },
     "output_type": "display_data"
    }
   ],
   "source": [
    "df['Age_cat'].value_counts().plot(kind='bar')\n",
    "plt.title(\"People present in each category\")"
   ]
  },
  {
   "cell_type": "code",
   "execution_count": 230,
   "metadata": {},
   "outputs": [
    {
     "data": {
      "text/plain": [
       "Text(0.5, 1.0, 'Distribution of Age')"
      ]
     },
     "execution_count": 230,
     "metadata": {},
     "output_type": "execute_result"
    },
    {
     "data": {
      "image/png": "[encoded data removed]",
      "text/plain": [
       "<Figure size 864x576 with 1 Axes>"
      ]
     },
     "metadata": {
      "needs_background": "light"
     },
     "output_type": "display_data"
    }
   ],
   "source": [
    "plt.figure(figsize=(12,8))\n",
    "df[\"Age\"].hist(bins = 10)\n",
    "plt.xlabel(\"Age\")\n",
    "plt.title(\"Distribution of Age\")"
   ]
  },
  {
   "cell_type": "code",
   "execution_count": 231,
   "metadata": {},
   "outputs": [
    {
     "data": {
      "image/png": "[encoded data removed]",
      "text/plain": [
       "<Figure size 720x360 with 2 Axes>"
      ]
     },
     "metadata": {
      "needs_background": "light"
     },
     "output_type": "display_data"
    }
   ],
   "source": [
    "# Separate by treatment or not\n",
    "\n",
    "g = sns.FacetGrid(df, col = 'treatment', height = 5)\n",
    "g = g.map(sns.distplot, \"Age\")"
   ]
  },
  {
   "cell_type": "code",
   "execution_count": 232,
   "metadata": {},
   "outputs": [
    {
     "data": {
      "text/plain": [
       "Index(['Age', 'Gender', 'self_employed', 'family_history', 'treatment',\n",
       "       'work_interfere', 'no_employees', 'remote_work', 'tech_company',\n",
       "       'benefits', 'care_options', 'wellness_program', 'seek_help',\n",
       "       'anonymity', 'leave', 'mental_health_consequence',\n",
       "       'phys_health_consequence', 'coworkers', 'supervisor',\n",
       "       'mental_health_interview', 'phys_health_interview',\n",
       "       'mental_vs_physical', 'obs_consequence', 'Age_cat', 'Gender_cat',\n",
       "       'family_history_cat', 'treatment_cat', 'work_interfere_cat',\n",
       "       'benefits_cat', 'care_options_cat', 'Age_cat_cat'],\n",
       "      dtype='object')"
      ]
     },
     "execution_count": 232,
     "metadata": {},
     "output_type": "execute_result"
    }
   ],
   "source": [
    "df.columns"
   ]
  },
  {
   "cell_type": "code",
   "execution_count": 233,
   "metadata": {},
   "outputs": [
    {
     "data": {
      "text/plain": [
       "<matplotlib.axes._subplots.AxesSubplot at 0x26bc6adcd08>"
      ]
     },
     "execution_count": 233,
     "metadata": {},
     "output_type": "execute_result"
    },
    {
     "data": {
      "image/png": "[encoded data removed]",
      "text/plain": [
       "<Figure size 432x288 with 1 Axes>"
      ]
     },
     "metadata": {
      "needs_background": "light"
     },
     "output_type": "display_data"
    }
   ],
   "source": [
    "df_treatment = df[df[\"treatment_cat\"] == 1]\n",
    "# Let see how many people has been treated\n",
    "sns.countplot(x ='Gender', data = df_treatment)\n",
    "#0 : Female, 1: Male, 2: Queer"
   ]
  },
  {
   "cell_type": "code",
   "execution_count": 234,
   "metadata": {},
   "outputs": [
    {
     "data": {
      "text/plain": [
       "(635, 31)"
      ]
     },
     "execution_count": 234,
     "metadata": {},
     "output_type": "execute_result"
    }
   ],
   "source": [
    "df_treatment.shape"
   ]
  },
  {
   "cell_type": "code",
   "execution_count": 235,
   "metadata": {},
   "outputs": [
    {
     "name": "stderr",
     "output_type": "stream",
     "text": [
      "I:\\ana\\lib\\site-packages\\seaborn\\categorical.py:3669: UserWarning: The `factorplot` function has been renamed to `catplot`. The original name will be removed in a future release. Please update your code. Note that the default `kind` in `factorplot` (`'point'`) has changed `'strip'` in `catplot`.\n",
      "  warnings.warn(msg)\n"
     ]
    },
    {
     "data": {
      "image/png": "[encoded data removed]",
      "text/plain": [
       "<Figure size 790.5x360 with 1 Axes>"
      ]
     },
     "metadata": {
      "needs_background": "light"
     },
     "output_type": "display_data"
    }
   ],
   "source": [
    "#Bar plot to show probabilities for Gender and Age group\n",
    "\n",
    "g = sns.factorplot(x = \"Age_cat\", y = \"treatment_cat\", hue = \"Gender\", data = df, kind = \"bar\",  ci = None, height = 5, aspect = 2, legend_out = True)\n",
    "\n",
    "#Labels\n",
    "plt.title('Probability of mental health condition')\n",
    "plt.ylabel('Probability x 100')\n",
    "plt.xlabel('Age')\n",
    "\n",
    "# Positioning the legend\n",
    "g.fig.subplots_adjust(top = 0.9, right = 0.8)\n",
    "\n",
    "plt.show()"
   ]
  },
  {
   "cell_type": "code",
   "execution_count": 236,
   "metadata": {},
   "outputs": [
    {
     "data": {
      "image/png": "[encoded data removed]",
      "text/plain": [
       "<Figure size 790.5x360 with 1 Axes>"
      ]
     },
     "metadata": {
      "needs_background": "light"
     },
     "output_type": "display_data"
    }
   ],
   "source": [
    "#Bar plot to show probabilities for Gender and Family history\n",
    "\n",
    "g = sns.factorplot(x = \"family_history\", y = \"treatment_cat\", hue = \"Gender\", data = df, kind = \"bar\",  ci = None, height = 5, aspect = 2, legend_out = True)\n",
    "\n",
    "#Labels\n",
    "plt.title('Probability of mental health condition')\n",
    "plt.ylabel('Probability x 100')\n",
    "plt.xlabel('Family History')\n",
    "\n",
    "# Positioning the legend\n",
    "g.fig.subplots_adjust(top = 0.9, right = 0.8)\n",
    "\n",
    "plt.show()"
   ]
  },
  {
   "cell_type": "code",
   "execution_count": 237,
   "metadata": {},
   "outputs": [
    {
     "data": {
      "image/png": "[encoded data removed]",
      "text/plain": [
       "<Figure size 790.5x360 with 1 Axes>"
      ]
     },
     "metadata": {
      "needs_background": "light"
     },
     "output_type": "display_data"
    }
   ],
   "source": [
    "#Bar plot to show probabilities for Gender and Care options\n",
    "\n",
    "g = sns.factorplot(x = \"care_options\", y = \"treatment_cat\", hue = \"Gender\", data = df, kind = \"bar\",  ci = None, height = 5, aspect = 2, legend_out = True)\n",
    "\n",
    "#Labels\n",
    "plt.title('Probability of mental health condition')\n",
    "plt.ylabel('Probability x 100')\n",
    "plt.xlabel('Care options')\n",
    "\n",
    "# Positioning the legend\n",
    "g.fig.subplots_adjust(top = 0.9, right = 0.8)\n"
   ]
  },
  {
   "cell_type": "code",
   "execution_count": 238,
   "metadata": {},
   "outputs": [
    {
     "data": {
      "image/png": "[encoded data removed]",
      "text/plain": [
       "<Figure size 790.5x360 with 1 Axes>"
      ]
     },
     "metadata": {
      "needs_background": "light"
     },
     "output_type": "display_data"
    }
   ],
   "source": [
    "#Bar plot to show probabilities for Gender and Benefits\n",
    "\n",
    "g = sns.factorplot(x = \"benefits\", y = \"treatment_cat\", hue = \"Gender\", data = df, kind = \"bar\",  ci = None, height = 5, aspect = 2, legend_out = True)\n",
    "\n",
    "#Labels\n",
    "plt.title('Probability of mental health condition')\n",
    "plt.ylabel('Probability x 100')\n",
    "plt.xlabel('Benefits')\n",
    "\n",
    "# Positioning the legend\n",
    "g.fig.subplots_adjust(top = 0.9, right = 0.8)"
   ]
  },
  {
   "cell_type": "code",
   "execution_count": 239,
   "metadata": {},
   "outputs": [
    {
     "data": {
      "text/html": [
       "<div>\n",
       "<style scoped>\n",
       "    .dataframe tbody tr th:only-of-type {\n",
       "        vertical-align: middle;\n",
       "    }\n",
       "\n",
       "    .dataframe tbody tr th {\n",
       "        vertical-align: top;\n",
       "    }\n",
       "\n",
       "    .dataframe thead th {\n",
       "        text-align: right;\n",
       "    }\n",
       "</style>\n",
       "<table border=\"1\" class=\"dataframe\">\n",
       "  <thead>\n",
       "    <tr style=\"text-align: right;\">\n",
       "      <th></th>\n",
       "      <th>Age</th>\n",
       "      <th>Gender</th>\n",
       "      <th>self_employed</th>\n",
       "      <th>family_history</th>\n",
       "      <th>treatment</th>\n",
       "      <th>work_interfere</th>\n",
       "      <th>no_employees</th>\n",
       "      <th>remote_work</th>\n",
       "      <th>tech_company</th>\n",
       "      <th>benefits</th>\n",
       "      <th>...</th>\n",
       "      <th>mental_vs_physical</th>\n",
       "      <th>obs_consequence</th>\n",
       "      <th>Age_cat</th>\n",
       "      <th>Gender_cat</th>\n",
       "      <th>family_history_cat</th>\n",
       "      <th>treatment_cat</th>\n",
       "      <th>work_interfere_cat</th>\n",
       "      <th>benefits_cat</th>\n",
       "      <th>care_options_cat</th>\n",
       "      <th>Age_cat_cat</th>\n",
       "    </tr>\n",
       "  </thead>\n",
       "  <tbody>\n",
       "    <tr>\n",
       "      <th>0</th>\n",
       "      <td>37</td>\n",
       "      <td>female</td>\n",
       "      <td>0</td>\n",
       "      <td>No</td>\n",
       "      <td>Yes</td>\n",
       "      <td>Often</td>\n",
       "      <td>4</td>\n",
       "      <td>0</td>\n",
       "      <td>1</td>\n",
       "      <td>Yes</td>\n",
       "      <td>...</td>\n",
       "      <td>2</td>\n",
       "      <td>0</td>\n",
       "      <td>Adult</td>\n",
       "      <td>0</td>\n",
       "      <td>0</td>\n",
       "      <td>1</td>\n",
       "      <td>1</td>\n",
       "      <td>2</td>\n",
       "      <td>1</td>\n",
       "      <td>1</td>\n",
       "    </tr>\n",
       "    <tr>\n",
       "      <th>1</th>\n",
       "      <td>44</td>\n",
       "      <td>male</td>\n",
       "      <td>0</td>\n",
       "      <td>No</td>\n",
       "      <td>No</td>\n",
       "      <td>Rarely</td>\n",
       "      <td>5</td>\n",
       "      <td>0</td>\n",
       "      <td>0</td>\n",
       "      <td>Don't know</td>\n",
       "      <td>...</td>\n",
       "      <td>0</td>\n",
       "      <td>0</td>\n",
       "      <td>Adult</td>\n",
       "      <td>1</td>\n",
       "      <td>0</td>\n",
       "      <td>0</td>\n",
       "      <td>2</td>\n",
       "      <td>0</td>\n",
       "      <td>0</td>\n",
       "      <td>1</td>\n",
       "    </tr>\n",
       "    <tr>\n",
       "      <th>2</th>\n",
       "      <td>32</td>\n",
       "      <td>male</td>\n",
       "      <td>0</td>\n",
       "      <td>No</td>\n",
       "      <td>No</td>\n",
       "      <td>Rarely</td>\n",
       "      <td>4</td>\n",
       "      <td>0</td>\n",
       "      <td>1</td>\n",
       "      <td>No</td>\n",
       "      <td>...</td>\n",
       "      <td>1</td>\n",
       "      <td>0</td>\n",
       "      <td>Adult</td>\n",
       "      <td>1</td>\n",
       "      <td>0</td>\n",
       "      <td>0</td>\n",
       "      <td>2</td>\n",
       "      <td>1</td>\n",
       "      <td>0</td>\n",
       "      <td>1</td>\n",
       "    </tr>\n",
       "    <tr>\n",
       "      <th>3</th>\n",
       "      <td>31</td>\n",
       "      <td>male</td>\n",
       "      <td>0</td>\n",
       "      <td>Yes</td>\n",
       "      <td>Yes</td>\n",
       "      <td>Often</td>\n",
       "      <td>2</td>\n",
       "      <td>0</td>\n",
       "      <td>1</td>\n",
       "      <td>No</td>\n",
       "      <td>...</td>\n",
       "      <td>1</td>\n",
       "      <td>1</td>\n",
       "      <td>Adult</td>\n",
       "      <td>1</td>\n",
       "      <td>1</td>\n",
       "      <td>1</td>\n",
       "      <td>1</td>\n",
       "      <td>1</td>\n",
       "      <td>2</td>\n",
       "      <td>1</td>\n",
       "    </tr>\n",
       "    <tr>\n",
       "      <th>4</th>\n",
       "      <td>31</td>\n",
       "      <td>male</td>\n",
       "      <td>0</td>\n",
       "      <td>No</td>\n",
       "      <td>No</td>\n",
       "      <td>Never</td>\n",
       "      <td>1</td>\n",
       "      <td>1</td>\n",
       "      <td>1</td>\n",
       "      <td>Yes</td>\n",
       "      <td>...</td>\n",
       "      <td>0</td>\n",
       "      <td>0</td>\n",
       "      <td>Adult</td>\n",
       "      <td>1</td>\n",
       "      <td>0</td>\n",
       "      <td>0</td>\n",
       "      <td>0</td>\n",
       "      <td>2</td>\n",
       "      <td>0</td>\n",
       "      <td>1</td>\n",
       "    </tr>\n",
       "  </tbody>\n",
       "</table>\n",
       "<p>5 rows × 31 columns</p>\n",
       "</div>"
      ],
      "text/plain": [
       "   Age  Gender  self_employed family_history treatment work_interfere  \\\n",
       "0   37  female              0             No       Yes          Often   \n",
       "1   44    male              0             No        No         Rarely   \n",
       "2   32    male              0             No        No         Rarely   \n",
       "3   31    male              0            Yes       Yes          Often   \n",
       "4   31    male              0             No        No          Never   \n",
       "\n",
       "   no_employees  remote_work  tech_company    benefits  ...  \\\n",
       "0             4            0             1         Yes  ...   \n",
       "1             5            0             0  Don't know  ...   \n",
       "2             4            0             1          No  ...   \n",
       "3             2            0             1          No  ...   \n",
       "4             1            1             1         Yes  ...   \n",
       "\n",
       "  mental_vs_physical  obs_consequence  Age_cat  Gender_cat  \\\n",
       "0                  2                0    Adult           0   \n",
       "1                  0                0    Adult           1   \n",
       "2                  1                0    Adult           1   \n",
       "3                  1                1    Adult           1   \n",
       "4                  0                0    Adult           1   \n",
       "\n",
       "   family_history_cat  treatment_cat  work_interfere_cat  benefits_cat  \\\n",
       "0                   0              1                   1             2   \n",
       "1                   0              0                   2             0   \n",
       "2                   0              0                   2             1   \n",
       "3                   1              1                   1             1   \n",
       "4                   0              0                   0             2   \n",
       "\n",
       "   care_options_cat  Age_cat_cat  \n",
       "0                 1            1  \n",
       "1                 0            1  \n",
       "2                 0            1  \n",
       "3                 2            1  \n",
       "4                 0            1  \n",
       "\n",
       "[5 rows x 31 columns]"
      ]
     },
     "execution_count": 239,
     "metadata": {},
     "output_type": "execute_result"
    }
   ],
   "source": [
    "df.head()"
   ]
  },
  {
   "cell_type": "markdown",
   "metadata": {},
   "source": [
    "## 6. Scaling and fitting"
   ]
  },
  {
   "cell_type": "code",
   "execution_count": 240,
   "metadata": {},
   "outputs": [],
   "source": [
    "# Scaling Age\n",
    "from sklearn.preprocessing import MinMaxScaler"
   ]
  },
  {
   "cell_type": "code",
   "execution_count": 241,
   "metadata": {},
   "outputs": [
    {
     "data": {
      "text/html": [
       "<div>\n",
       "<style scoped>\n",
       "    .dataframe tbody tr th:only-of-type {\n",
       "        vertical-align: middle;\n",
       "    }\n",
       "\n",
       "    .dataframe tbody tr th {\n",
       "        vertical-align: top;\n",
       "    }\n",
       "\n",
       "    .dataframe thead th {\n",
       "        text-align: right;\n",
       "    }\n",
       "</style>\n",
       "<table border=\"1\" class=\"dataframe\">\n",
       "  <thead>\n",
       "    <tr style=\"text-align: right;\">\n",
       "      <th></th>\n",
       "      <th>Age</th>\n",
       "      <th>Gender</th>\n",
       "      <th>self_employed</th>\n",
       "      <th>family_history</th>\n",
       "      <th>treatment</th>\n",
       "      <th>work_interfere</th>\n",
       "      <th>no_employees</th>\n",
       "      <th>remote_work</th>\n",
       "      <th>tech_company</th>\n",
       "      <th>benefits</th>\n",
       "      <th>...</th>\n",
       "      <th>mental_vs_physical</th>\n",
       "      <th>obs_consequence</th>\n",
       "      <th>Age_cat</th>\n",
       "      <th>Gender_cat</th>\n",
       "      <th>family_history_cat</th>\n",
       "      <th>treatment_cat</th>\n",
       "      <th>work_interfere_cat</th>\n",
       "      <th>benefits_cat</th>\n",
       "      <th>care_options_cat</th>\n",
       "      <th>Age_cat_cat</th>\n",
       "    </tr>\n",
       "  </thead>\n",
       "  <tbody>\n",
       "    <tr>\n",
       "      <th>0</th>\n",
       "      <td>0.477612</td>\n",
       "      <td>female</td>\n",
       "      <td>0</td>\n",
       "      <td>No</td>\n",
       "      <td>Yes</td>\n",
       "      <td>Often</td>\n",
       "      <td>4</td>\n",
       "      <td>0</td>\n",
       "      <td>1</td>\n",
       "      <td>Yes</td>\n",
       "      <td>...</td>\n",
       "      <td>2</td>\n",
       "      <td>0</td>\n",
       "      <td>Adult</td>\n",
       "      <td>0</td>\n",
       "      <td>0</td>\n",
       "      <td>1</td>\n",
       "      <td>1</td>\n",
       "      <td>2</td>\n",
       "      <td>1</td>\n",
       "      <td>1</td>\n",
       "    </tr>\n",
       "    <tr>\n",
       "      <th>1</th>\n",
       "      <td>0.582090</td>\n",
       "      <td>male</td>\n",
       "      <td>0</td>\n",
       "      <td>No</td>\n",
       "      <td>No</td>\n",
       "      <td>Rarely</td>\n",
       "      <td>5</td>\n",
       "      <td>0</td>\n",
       "      <td>0</td>\n",
       "      <td>Don't know</td>\n",
       "      <td>...</td>\n",
       "      <td>0</td>\n",
       "      <td>0</td>\n",
       "      <td>Adult</td>\n",
       "      <td>1</td>\n",
       "      <td>0</td>\n",
       "      <td>0</td>\n",
       "      <td>2</td>\n",
       "      <td>0</td>\n",
       "      <td>0</td>\n",
       "      <td>1</td>\n",
       "    </tr>\n",
       "    <tr>\n",
       "      <th>2</th>\n",
       "      <td>0.402985</td>\n",
       "      <td>male</td>\n",
       "      <td>0</td>\n",
       "      <td>No</td>\n",
       "      <td>No</td>\n",
       "      <td>Rarely</td>\n",
       "      <td>4</td>\n",
       "      <td>0</td>\n",
       "      <td>1</td>\n",
       "      <td>No</td>\n",
       "      <td>...</td>\n",
       "      <td>1</td>\n",
       "      <td>0</td>\n",
       "      <td>Adult</td>\n",
       "      <td>1</td>\n",
       "      <td>0</td>\n",
       "      <td>0</td>\n",
       "      <td>2</td>\n",
       "      <td>1</td>\n",
       "      <td>0</td>\n",
       "      <td>1</td>\n",
       "    </tr>\n",
       "    <tr>\n",
       "      <th>3</th>\n",
       "      <td>0.388060</td>\n",
       "      <td>male</td>\n",
       "      <td>0</td>\n",
       "      <td>Yes</td>\n",
       "      <td>Yes</td>\n",
       "      <td>Often</td>\n",
       "      <td>2</td>\n",
       "      <td>0</td>\n",
       "      <td>1</td>\n",
       "      <td>No</td>\n",
       "      <td>...</td>\n",
       "      <td>1</td>\n",
       "      <td>1</td>\n",
       "      <td>Adult</td>\n",
       "      <td>1</td>\n",
       "      <td>1</td>\n",
       "      <td>1</td>\n",
       "      <td>1</td>\n",
       "      <td>1</td>\n",
       "      <td>2</td>\n",
       "      <td>1</td>\n",
       "    </tr>\n",
       "    <tr>\n",
       "      <th>4</th>\n",
       "      <td>0.388060</td>\n",
       "      <td>male</td>\n",
       "      <td>0</td>\n",
       "      <td>No</td>\n",
       "      <td>No</td>\n",
       "      <td>Never</td>\n",
       "      <td>1</td>\n",
       "      <td>1</td>\n",
       "      <td>1</td>\n",
       "      <td>Yes</td>\n",
       "      <td>...</td>\n",
       "      <td>0</td>\n",
       "      <td>0</td>\n",
       "      <td>Adult</td>\n",
       "      <td>1</td>\n",
       "      <td>0</td>\n",
       "      <td>0</td>\n",
       "      <td>0</td>\n",
       "      <td>2</td>\n",
       "      <td>0</td>\n",
       "      <td>1</td>\n",
       "    </tr>\n",
       "  </tbody>\n",
       "</table>\n",
       "<p>5 rows × 31 columns</p>\n",
       "</div>"
      ],
      "text/plain": [
       "        Age  Gender  self_employed family_history treatment work_interfere  \\\n",
       "0  0.477612  female              0             No       Yes          Often   \n",
       "1  0.582090    male              0             No        No         Rarely   \n",
       "2  0.402985    male              0             No        No         Rarely   \n",
       "3  0.388060    male              0            Yes       Yes          Often   \n",
       "4  0.388060    male              0             No        No          Never   \n",
       "\n",
       "   no_employees  remote_work  tech_company    benefits  ...  \\\n",
       "0             4            0             1         Yes  ...   \n",
       "1             5            0             0  Don't know  ...   \n",
       "2             4            0             1          No  ...   \n",
       "3             2            0             1          No  ...   \n",
       "4             1            1             1         Yes  ...   \n",
       "\n",
       "  mental_vs_physical  obs_consequence  Age_cat  Gender_cat  \\\n",
       "0                  2                0    Adult           0   \n",
       "1                  0                0    Adult           1   \n",
       "2                  1                0    Adult           1   \n",
       "3                  1                1    Adult           1   \n",
       "4                  0                0    Adult           1   \n",
       "\n",
       "   family_history_cat  treatment_cat  work_interfere_cat  benefits_cat  \\\n",
       "0                   0              1                   1             2   \n",
       "1                   0              0                   2             0   \n",
       "2                   0              0                   2             1   \n",
       "3                   1              1                   1             1   \n",
       "4                   0              0                   0             2   \n",
       "\n",
       "   care_options_cat  Age_cat_cat  \n",
       "0                 1            1  \n",
       "1                 0            1  \n",
       "2                 0            1  \n",
       "3                 2            1  \n",
       "4                 0            1  \n",
       "\n",
       "[5 rows x 31 columns]"
      ]
     },
     "execution_count": 241,
     "metadata": {},
     "output_type": "execute_result"
    }
   ],
   "source": [
    "scaler = MinMaxScaler()\n",
    "#Except age, all other variables are almost similar. So scaling age.\n",
    "df['Age'] = scaler.fit_transform(df[['Age']])\n",
    "df.head()"
   ]
  },
  {
   "cell_type": "code",
   "execution_count": 242,
   "metadata": {},
   "outputs": [
    {
     "data": {
      "text/plain": [
       "Index(['Age', 'Gender', 'self_employed', 'family_history', 'treatment',\n",
       "       'work_interfere', 'no_employees', 'remote_work', 'tech_company',\n",
       "       'benefits', 'care_options', 'wellness_program', 'seek_help',\n",
       "       'anonymity', 'leave', 'mental_health_consequence',\n",
       "       'phys_health_consequence', 'coworkers', 'supervisor',\n",
       "       'mental_health_interview', 'phys_health_interview',\n",
       "       'mental_vs_physical', 'obs_consequence', 'Age_cat', 'Gender_cat',\n",
       "       'family_history_cat', 'treatment_cat', 'work_interfere_cat',\n",
       "       'benefits_cat', 'care_options_cat', 'Age_cat_cat'],\n",
       "      dtype='object')"
      ]
     },
     "execution_count": 242,
     "metadata": {},
     "output_type": "execute_result"
    }
   ],
   "source": [
    "df.columns"
   ]
  },
  {
   "cell_type": "code",
   "execution_count": 243,
   "metadata": {},
   "outputs": [],
   "source": [
    "# define X and y\n",
    "feature_cols = ['Age', 'family_history_cat', 'benefits_cat', 'care_options_cat', 'anonymity', 'leave', 'work_interfere_cat', \"no_employees\"]\n",
    "X = df[feature_cols]\n",
    "y = df.treatment_cat"
   ]
  },
  {
   "cell_type": "code",
   "execution_count": 244,
   "metadata": {},
   "outputs": [],
   "source": [
    "df1 = df[['Age', 'family_history_cat', 'benefits_cat', 'care_options_cat', 'anonymity', 'leave', 'work_interfere_cat', \"no_employees\", \"treatment_cat\"]]"
   ]
  },
  {
   "cell_type": "code",
   "execution_count": 245,
   "metadata": {},
   "outputs": [
    {
     "data": {
      "text/html": [
       "<div>\n",
       "<style scoped>\n",
       "    .dataframe tbody tr th:only-of-type {\n",
       "        vertical-align: middle;\n",
       "    }\n",
       "\n",
       "    .dataframe tbody tr th {\n",
       "        vertical-align: top;\n",
       "    }\n",
       "\n",
       "    .dataframe thead th {\n",
       "        text-align: right;\n",
       "    }\n",
       "</style>\n",
       "<table border=\"1\" class=\"dataframe\">\n",
       "  <thead>\n",
       "    <tr style=\"text-align: right;\">\n",
       "      <th></th>\n",
       "      <th>Age</th>\n",
       "      <th>family_history_cat</th>\n",
       "      <th>benefits_cat</th>\n",
       "      <th>care_options_cat</th>\n",
       "      <th>anonymity</th>\n",
       "      <th>leave</th>\n",
       "      <th>work_interfere_cat</th>\n",
       "      <th>no_employees</th>\n",
       "      <th>treatment_cat</th>\n",
       "    </tr>\n",
       "  </thead>\n",
       "  <tbody>\n",
       "    <tr>\n",
       "      <th>0</th>\n",
       "      <td>0.477612</td>\n",
       "      <td>0</td>\n",
       "      <td>2</td>\n",
       "      <td>1</td>\n",
       "      <td>2</td>\n",
       "      <td>2</td>\n",
       "      <td>1</td>\n",
       "      <td>4</td>\n",
       "      <td>1</td>\n",
       "    </tr>\n",
       "    <tr>\n",
       "      <th>1</th>\n",
       "      <td>0.582090</td>\n",
       "      <td>0</td>\n",
       "      <td>0</td>\n",
       "      <td>0</td>\n",
       "      <td>0</td>\n",
       "      <td>0</td>\n",
       "      <td>2</td>\n",
       "      <td>5</td>\n",
       "      <td>0</td>\n",
       "    </tr>\n",
       "    <tr>\n",
       "      <th>2</th>\n",
       "      <td>0.402985</td>\n",
       "      <td>0</td>\n",
       "      <td>1</td>\n",
       "      <td>0</td>\n",
       "      <td>0</td>\n",
       "      <td>1</td>\n",
       "      <td>2</td>\n",
       "      <td>4</td>\n",
       "      <td>0</td>\n",
       "    </tr>\n",
       "    <tr>\n",
       "      <th>3</th>\n",
       "      <td>0.388060</td>\n",
       "      <td>1</td>\n",
       "      <td>1</td>\n",
       "      <td>2</td>\n",
       "      <td>1</td>\n",
       "      <td>1</td>\n",
       "      <td>1</td>\n",
       "      <td>2</td>\n",
       "      <td>1</td>\n",
       "    </tr>\n",
       "    <tr>\n",
       "      <th>4</th>\n",
       "      <td>0.388060</td>\n",
       "      <td>0</td>\n",
       "      <td>2</td>\n",
       "      <td>0</td>\n",
       "      <td>0</td>\n",
       "      <td>0</td>\n",
       "      <td>0</td>\n",
       "      <td>1</td>\n",
       "      <td>0</td>\n",
       "    </tr>\n",
       "    <tr>\n",
       "      <th>...</th>\n",
       "      <td>...</td>\n",
       "      <td>...</td>\n",
       "      <td>...</td>\n",
       "      <td>...</td>\n",
       "      <td>...</td>\n",
       "      <td>...</td>\n",
       "      <td>...</td>\n",
       "      <td>...</td>\n",
       "      <td>...</td>\n",
       "    </tr>\n",
       "    <tr>\n",
       "      <th>1254</th>\n",
       "      <td>0.313433</td>\n",
       "      <td>0</td>\n",
       "      <td>1</td>\n",
       "      <td>0</td>\n",
       "      <td>0</td>\n",
       "      <td>2</td>\n",
       "      <td>4</td>\n",
       "      <td>2</td>\n",
       "      <td>1</td>\n",
       "    </tr>\n",
       "    <tr>\n",
       "      <th>1255</th>\n",
       "      <td>0.402985</td>\n",
       "      <td>1</td>\n",
       "      <td>2</td>\n",
       "      <td>2</td>\n",
       "      <td>2</td>\n",
       "      <td>1</td>\n",
       "      <td>1</td>\n",
       "      <td>2</td>\n",
       "      <td>1</td>\n",
       "    </tr>\n",
       "    <tr>\n",
       "      <th>1256</th>\n",
       "      <td>0.432836</td>\n",
       "      <td>1</td>\n",
       "      <td>2</td>\n",
       "      <td>2</td>\n",
       "      <td>0</td>\n",
       "      <td>1</td>\n",
       "      <td>3</td>\n",
       "      <td>5</td>\n",
       "      <td>1</td>\n",
       "    </tr>\n",
       "    <tr>\n",
       "      <th>1257</th>\n",
       "      <td>0.611940</td>\n",
       "      <td>0</td>\n",
       "      <td>1</td>\n",
       "      <td>2</td>\n",
       "      <td>0</td>\n",
       "      <td>0</td>\n",
       "      <td>4</td>\n",
       "      <td>1</td>\n",
       "      <td>0</td>\n",
       "    </tr>\n",
       "    <tr>\n",
       "      <th>1258</th>\n",
       "      <td>0.298507</td>\n",
       "      <td>1</td>\n",
       "      <td>2</td>\n",
       "      <td>2</td>\n",
       "      <td>2</td>\n",
       "      <td>0</td>\n",
       "      <td>3</td>\n",
       "      <td>2</td>\n",
       "      <td>1</td>\n",
       "    </tr>\n",
       "  </tbody>\n",
       "</table>\n",
       "<p>1257 rows × 9 columns</p>\n",
       "</div>"
      ],
      "text/plain": [
       "           Age  family_history_cat  benefits_cat  care_options_cat  anonymity  \\\n",
       "0     0.477612                   0             2                 1          2   \n",
       "1     0.582090                   0             0                 0          0   \n",
       "2     0.402985                   0             1                 0          0   \n",
       "3     0.388060                   1             1                 2          1   \n",
       "4     0.388060                   0             2                 0          0   \n",
       "...        ...                 ...           ...               ...        ...   \n",
       "1254  0.313433                   0             1                 0          0   \n",
       "1255  0.402985                   1             2                 2          2   \n",
       "1256  0.432836                   1             2                 2          0   \n",
       "1257  0.611940                   0             1                 2          0   \n",
       "1258  0.298507                   1             2                 2          2   \n",
       "\n",
       "      leave  work_interfere_cat  no_employees  treatment_cat  \n",
       "0         2                   1             4              1  \n",
       "1         0                   2             5              0  \n",
       "2         1                   2             4              0  \n",
       "3         1                   1             2              1  \n",
       "4         0                   0             1              0  \n",
       "...     ...                 ...           ...            ...  \n",
       "1254      2                   4             2              1  \n",
       "1255      1                   1             2              1  \n",
       "1256      1                   3             5              1  \n",
       "1257      0                   4             1              0  \n",
       "1258      0                   3             2              1  \n",
       "\n",
       "[1257 rows x 9 columns]"
      ]
     },
     "execution_count": 245,
     "metadata": {},
     "output_type": "execute_result"
    }
   ],
   "source": [
    "df1"
   ]
  },
  {
   "cell_type": "code",
   "execution_count": 246,
   "metadata": {},
   "outputs": [
    {
     "data": {
      "text/plain": [
       "<seaborn.axisgrid.PairGrid at 0x26bc6ebfd88>"
      ]
     },
     "execution_count": 246,
     "metadata": {},
     "output_type": "execute_result"
    },
    {
     "data": {
      "image/png": "[encoded data removed]",
      "text/plain": [
       "<Figure size 1518.62x1440 with 72 Axes>"
      ]
     },
     "metadata": {
      "needs_background": "light"
     },
     "output_type": "display_data"
    }
   ],
   "source": [
    "sns.pairplot(df1, hue = \"treatment_cat\", diag_kws={'bw': 0.2})"
   ]
  },
  {
   "cell_type": "markdown",
   "metadata": {},
   "source": [
    "## 7. Evaluating models"
   ]
  },
  {
   "cell_type": "code",
   "execution_count": 247,
   "metadata": {},
   "outputs": [],
   "source": [
    "#Dictionary to store the accuracy scores of Algorithms\n",
    "algo_score = {}"
   ]
  },
  {
   "cell_type": "markdown",
   "metadata": {},
   "source": [
    "### a) Logistic Regression"
   ]
  },
  {
   "cell_type": "code",
   "execution_count": 248,
   "metadata": {},
   "outputs": [],
   "source": [
    "from sklearn.model_selection import train_test_split\n",
    "# split X and y into training and testing sets\n",
    "X_train, X_test, y_train, y_test = train_test_split(X, y, test_size = 0.20, random_state = 0)"
   ]
  },
  {
   "cell_type": "code",
   "execution_count": 249,
   "metadata": {},
   "outputs": [
    {
     "data": {
      "text/plain": [
       "LogisticRegression(C=1.0, class_weight=None, dual=False, fit_intercept=True,\n",
       "                   intercept_scaling=1, l1_ratio=None, max_iter=100,\n",
       "                   multi_class='auto', n_jobs=None, penalty='l2',\n",
       "                   random_state=0, solver='lbfgs', tol=0.0001, verbose=0,\n",
       "                   warm_start=False)"
      ]
     },
     "execution_count": 249,
     "metadata": {},
     "output_type": "execute_result"
    }
   ],
   "source": [
    "from sklearn.linear_model import LogisticRegression\n",
    "classifier = LogisticRegression(random_state = 0)\n",
    "classifier.fit(X_train, y_train)"
   ]
  },
  {
   "cell_type": "code",
   "execution_count": 250,
   "metadata": {},
   "outputs": [],
   "source": [
    "y_pred = classifier.predict(X_test)"
   ]
  },
  {
   "cell_type": "code",
   "execution_count": 251,
   "metadata": {},
   "outputs": [
    {
     "name": "stdout",
     "output_type": "stream",
     "text": [
      "Confusion Matrix : \n",
      " [[83 46]\n",
      " [31 92]]\n"
     ]
    }
   ],
   "source": [
    "from sklearn.metrics import confusion_matrix\n",
    "cm = confusion_matrix(y_test, y_pred)\n",
    "  \n",
    "print (\"Confusion Matrix : \\n\", cm)"
   ]
  },
  {
   "cell_type": "code",
   "execution_count": 252,
   "metadata": {},
   "outputs": [
    {
     "name": "stdout",
     "output_type": "stream",
     "text": [
      "Accuracy :  0.6944444444444444\n"
     ]
    }
   ],
   "source": [
    "from sklearn.metrics import accuracy_score\n",
    "print (\"Accuracy : \", accuracy_score(y_test, y_pred))\n",
    "algo_score[\"Logistic Regression\"] = accuracy_score(y_test, y_pred)"
   ]
  },
  {
   "cell_type": "code",
   "execution_count": 253,
   "metadata": {},
   "outputs": [
    {
     "data": {
      "image/png": "[encoded data removed]",
      "text/plain": [
       "<Figure size 432x288 with 1 Axes>"
      ]
     },
     "metadata": {
      "needs_background": "light"
     },
     "output_type": "display_data"
    }
   ],
   "source": [
    "plt.clf()\n",
    "plt.imshow(cm, interpolation = 'nearest', cmap = plt.cm.Wistia)\n",
    "classNames = ['Negative','Positive']\n",
    "plt.title('Needs treatment or not - Confusion Matrix - Test Data - Logistic Regression')\n",
    "plt.ylabel('True label')\n",
    "plt.xlabel('Predicted label')\n",
    "tick_marks = np.arange(len(classNames))\n",
    "plt.xticks(tick_marks, classNames, rotation=45)\n",
    "plt.yticks(tick_marks, classNames)\n",
    "s = [['TN','FP'], ['FN', 'TP']]\n",
    "for i in range(2):\n",
    "    for j in range(2):\n",
    "        plt.text(j,i, str(s[i][j]) + \" = \" + str(cm[i][j]))\n",
    "plt.show()"
   ]
  },
  {
   "cell_type": "markdown",
   "metadata": {},
   "source": [
    "### b) KNN"
   ]
  },
  {
   "cell_type": "code",
   "execution_count": 254,
   "metadata": {},
   "outputs": [
    {
     "data": {
      "text/plain": [
       "KNeighborsClassifier(algorithm='auto', leaf_size=30, metric='minkowski',\n",
       "                     metric_params=None, n_jobs=None, n_neighbors=35, p=2,\n",
       "                     weights='uniform')"
      ]
     },
     "execution_count": 254,
     "metadata": {},
     "output_type": "execute_result"
    }
   ],
   "source": [
    "from sklearn.neighbors import KNeighborsClassifier\n",
    "knn = KNeighborsClassifier(n_neighbors = 35)\n",
    "  \n",
    "knn.fit(X_train, y_train)"
   ]
  },
  {
   "cell_type": "code",
   "execution_count": 255,
   "metadata": {},
   "outputs": [],
   "source": [
    "y_pred = knn.predict(X_test)\n",
    "cm = confusion_matrix(y_test, y_pred)"
   ]
  },
  {
   "cell_type": "code",
   "execution_count": 256,
   "metadata": {},
   "outputs": [
    {
     "name": "stdout",
     "output_type": "stream",
     "text": [
      "Accuracy :  0.753968253968254\n"
     ]
    }
   ],
   "source": [
    "print (\"Accuracy : \", accuracy_score(y_test, y_pred))\n",
    "algo_score[\"KNN Classifier\"] = accuracy_score(y_test, y_pred)"
   ]
  },
  {
   "cell_type": "code",
   "execution_count": 257,
   "metadata": {},
   "outputs": [
    {
     "data": {
      "image/png": "[encoded data removed]",
      "text/plain": [
       "<Figure size 432x288 with 1 Axes>"
      ]
     },
     "metadata": {
      "needs_background": "light"
     },
     "output_type": "display_data"
    }
   ],
   "source": [
    "plt.clf()\n",
    "plt.imshow(cm, interpolation = 'nearest', cmap = plt.cm.Wistia)\n",
    "classNames = ['Negative','Positive']\n",
    "plt.title('Needs treatment or not - Confusion Matrix - Test Data - KNN')\n",
    "plt.ylabel('True label')\n",
    "plt.xlabel('Predicted label')\n",
    "tick_marks = np.arange(len(classNames))\n",
    "plt.xticks(tick_marks, classNames, rotation=45)\n",
    "plt.yticks(tick_marks, classNames)\n",
    "s = [['TN','FP'], ['FN', 'TP']]\n",
    "for i in range(2):\n",
    "    for j in range(2):\n",
    "        plt.text(j,i, str(s[i][j]) + \" = \" + str(cm[i][j]))\n",
    "plt.show()"
   ]
  },
  {
   "cell_type": "markdown",
   "metadata": {},
   "source": [
    "### c) SVM"
   ]
  },
  {
   "cell_type": "code",
   "execution_count": 258,
   "metadata": {},
   "outputs": [],
   "source": [
    "from sklearn.svm import SVC"
   ]
  },
  {
   "cell_type": "code",
   "execution_count": 259,
   "metadata": {},
   "outputs": [],
   "source": [
    "svm = SVC()"
   ]
  },
  {
   "cell_type": "code",
   "execution_count": 260,
   "metadata": {},
   "outputs": [
    {
     "data": {
      "text/plain": [
       "SVC(C=1.0, break_ties=False, cache_size=200, class_weight=None, coef0=0.0,\n",
       "    decision_function_shape='ovr', degree=3, gamma='scale', kernel='rbf',\n",
       "    max_iter=-1, probability=False, random_state=None, shrinking=True,\n",
       "    tol=0.001, verbose=False)"
      ]
     },
     "execution_count": 260,
     "metadata": {},
     "output_type": "execute_result"
    }
   ],
   "source": [
    "svm.fit(X_train, y_train)"
   ]
  },
  {
   "cell_type": "code",
   "execution_count": 261,
   "metadata": {},
   "outputs": [],
   "source": [
    "y_pred = svm.predict(X_test)\n",
    "cm = confusion_matrix(y_test, y_pred)"
   ]
  },
  {
   "cell_type": "code",
   "execution_count": 262,
   "metadata": {},
   "outputs": [
    {
     "name": "stdout",
     "output_type": "stream",
     "text": [
      "Accuracy :  0.8055555555555556\n"
     ]
    }
   ],
   "source": [
    "print (\"Accuracy : \", accuracy_score(y_test, y_pred))\n",
    "algo_score[\"Support Vector Machine\"] = accuracy_score(y_test, y_pred)"
   ]
  },
  {
   "cell_type": "code",
   "execution_count": 263,
   "metadata": {},
   "outputs": [
    {
     "data": {
      "image/png": "[encoded data removed]",
      "text/plain": [
       "<Figure size 432x288 with 1 Axes>"
      ]
     },
     "metadata": {
      "needs_background": "light"
     },
     "output_type": "display_data"
    }
   ],
   "source": [
    "plt.clf()\n",
    "plt.imshow(cm, interpolation = 'nearest', cmap = plt.cm.Wistia)\n",
    "classNames = ['Negative','Positive']\n",
    "plt.title('Needs treatment or not - Confusion Matrix - Test Data - SVM')\n",
    "plt.ylabel('True label')\n",
    "plt.xlabel('Predicted label')\n",
    "tick_marks = np.arange(len(classNames))\n",
    "plt.xticks(tick_marks, classNames, rotation=45)\n",
    "plt.yticks(tick_marks, classNames)\n",
    "s = [['TN','FP'], ['FN', 'TP']]\n",
    "for i in range(2):\n",
    "    for j in range(2):\n",
    "        plt.text(j,i, str(s[i][j]) + \" = \" + str(cm[i][j]))\n",
    "plt.show()"
   ]
  },
  {
   "cell_type": "markdown",
   "metadata": {},
   "source": [
    "### d) Random Forest"
   ]
  },
  {
   "cell_type": "code",
   "execution_count": 264,
   "metadata": {},
   "outputs": [],
   "source": [
    "from sklearn.ensemble import RandomForestClassifier"
   ]
  },
  {
   "cell_type": "code",
   "execution_count": 265,
   "metadata": {},
   "outputs": [],
   "source": [
    "rfc = RandomForestClassifier(n_estimators = 20)"
   ]
  },
  {
   "cell_type": "code",
   "execution_count": 266,
   "metadata": {},
   "outputs": [
    {
     "data": {
      "text/plain": [
       "RandomForestClassifier(bootstrap=True, ccp_alpha=0.0, class_weight=None,\n",
       "                       criterion='gini', max_depth=None, max_features='auto',\n",
       "                       max_leaf_nodes=None, max_samples=None,\n",
       "                       min_impurity_decrease=0.0, min_impurity_split=None,\n",
       "                       min_samples_leaf=1, min_samples_split=2,\n",
       "                       min_weight_fraction_leaf=0.0, n_estimators=20,\n",
       "                       n_jobs=None, oob_score=False, random_state=None,\n",
       "                       verbose=0, warm_start=False)"
      ]
     },
     "execution_count": 266,
     "metadata": {},
     "output_type": "execute_result"
    }
   ],
   "source": [
    "rfc.fit(X_train, y_train)"
   ]
  },
  {
   "cell_type": "code",
   "execution_count": 267,
   "metadata": {},
   "outputs": [],
   "source": [
    "y_pred = rfc.predict(X_test)\n",
    "cm = confusion_matrix(y_test, y_pred)"
   ]
  },
  {
   "cell_type": "code",
   "execution_count": 268,
   "metadata": {},
   "outputs": [
    {
     "name": "stdout",
     "output_type": "stream",
     "text": [
      "Accuracy :  0.7976190476190477\n"
     ]
    }
   ],
   "source": [
    "print (\"Accuracy : \", accuracy_score(y_test, y_pred))\n",
    "algo_score[\"Random Forest\"] = accuracy_score(y_test, y_pred)"
   ]
  },
  {
   "cell_type": "code",
   "execution_count": 269,
   "metadata": {},
   "outputs": [
    {
     "data": {
      "image/png": "[encoded data removed]",
      "text/plain": [
       "<Figure size 432x288 with 1 Axes>"
      ]
     },
     "metadata": {
      "needs_background": "light"
     },
     "output_type": "display_data"
    }
   ],
   "source": [
    "plt.clf()\n",
    "plt.imshow(cm, interpolation = 'nearest', cmap = plt.cm.Wistia)\n",
    "classNames = ['Negative','Positive']\n",
    "plt.title('Needs treatment or not - Confusion Matrix - Test Data - Random Forest')\n",
    "plt.ylabel('True label')\n",
    "plt.xlabel('Predicted label')\n",
    "tick_marks = np.arange(len(classNames))\n",
    "plt.xticks(tick_marks, classNames, rotation=45)\n",
    "plt.yticks(tick_marks, classNames)\n",
    "s = [['TN','FP'], ['FN', 'TP']]\n",
    "for i in range(2):\n",
    "    for j in range(2):\n",
    "        plt.text(j,i, str(s[i][j]) + \" = \" + str(cm[i][j]))\n",
    "plt.show()"
   ]
  },
  {
   "cell_type": "markdown",
   "metadata": {},
   "source": [
    "### e) Decision Tree"
   ]
  },
  {
   "cell_type": "code",
   "execution_count": 270,
   "metadata": {},
   "outputs": [],
   "source": [
    "from sklearn.tree import DecisionTreeClassifier"
   ]
  },
  {
   "cell_type": "code",
   "execution_count": 271,
   "metadata": {},
   "outputs": [],
   "source": [
    "dt = DecisionTreeClassifier()"
   ]
  },
  {
   "cell_type": "code",
   "execution_count": 272,
   "metadata": {},
   "outputs": [
    {
     "data": {
      "text/plain": [
       "DecisionTreeClassifier(ccp_alpha=0.0, class_weight=None, criterion='gini',\n",
       "                       max_depth=None, max_features=None, max_leaf_nodes=None,\n",
       "                       min_impurity_decrease=0.0, min_impurity_split=None,\n",
       "                       min_samples_leaf=1, min_samples_split=2,\n",
       "                       min_weight_fraction_leaf=0.0, presort='deprecated',\n",
       "                       random_state=None, splitter='best')"
      ]
     },
     "execution_count": 272,
     "metadata": {},
     "output_type": "execute_result"
    }
   ],
   "source": [
    "dt.fit(X_train, y_train)"
   ]
  },
  {
   "cell_type": "code",
   "execution_count": 273,
   "metadata": {},
   "outputs": [
    {
     "name": "stdout",
     "output_type": "stream",
     "text": [
      "Accuracy :  0.75\n"
     ]
    }
   ],
   "source": [
    "y_pred = dt.predict(X_test)\n",
    "print (\"Accuracy : \", accuracy_score(y_test, y_pred))   \n",
    "algo_score[\"Decision Tree\"] = accuracy_score(y_test, y_pred)\n"
   ]
  },
  {
   "cell_type": "code",
   "execution_count": 274,
   "metadata": {},
   "outputs": [
    {
     "data": {
      "image/png": "[encoded data removed]",
      "text/plain": [
       "<Figure size 432x288 with 1 Axes>"
      ]
     },
     "metadata": {
      "needs_background": "light"
     },
     "output_type": "display_data"
    }
   ],
   "source": [
    "cm = confusion_matrix(y_test, y_pred)\n",
    "plt.clf()\n",
    "plt.imshow(cm, interpolation = 'nearest', cmap = plt.cm.Wistia)\n",
    "classNames = ['Negative','Positive']\n",
    "plt.title('Needs treatment or not - Confusion Matrix - Test Data - Decision Tree')\n",
    "plt.ylabel('True label')\n",
    "plt.xlabel('Predicted label')\n",
    "tick_marks = np.arange(len(classNames))\n",
    "plt.xticks(tick_marks, classNames, rotation=45)\n",
    "plt.yticks(tick_marks, classNames)\n",
    "s = [['TN','FP'], ['FN', 'TP']]\n",
    "for i in range(2):\n",
    "    for j in range(2):\n",
    "        plt.text(j,i, str(s[i][j]) + \" = \" + str(cm[i][j]))\n",
    "plt.show()"
   ]
  },
  {
   "cell_type": "markdown",
   "metadata": {},
   "source": [
    "## 8. Tuning"
   ]
  },
  {
   "cell_type": "code",
   "execution_count": 275,
   "metadata": {},
   "outputs": [],
   "source": [
    "from sklearn import svm\n",
    "from sklearn.ensemble import RandomForestClassifier\n",
    "from sklearn.linear_model import LogisticRegression\n",
    "from sklearn.naive_bayes import GaussianNB\n",
    "from sklearn.naive_bayes import MultinomialNB\n",
    "from sklearn.tree import DecisionTreeClassifier\n",
    "from sklearn.neighbors import KNeighborsClassifier"
   ]
  },
  {
   "cell_type": "code",
   "execution_count": 276,
   "metadata": {},
   "outputs": [],
   "source": [
    "model_params = {\n",
    "    'svm': {\n",
    "        'model': svm.SVC(gamma='auto'),\n",
    "        'params' : {\n",
    "            'C': [0.1, 1, 10, 100], \n",
    "              'kernel': ['rbf' ,'linear']\n",
    "        }  \n",
    "    },\n",
    "    'random_forest': {\n",
    "        'model': RandomForestClassifier(),\n",
    "        'params' : {\n",
    "            'n_estimators': [1,5,10, 20]\n",
    "        }\n",
    "    },\n",
    "    'decision_tree': {\n",
    "        'model': DecisionTreeClassifier(),\n",
    "        'params': {\n",
    "            'criterion': ['gini','entropy'],\n",
    "            \n",
    "        }, \n",
    "    }\n",
    "}"
   ]
  },
  {
   "cell_type": "code",
   "execution_count": 277,
   "metadata": {},
   "outputs": [
    {
     "data": {
      "text/html": [
       "<div>\n",
       "<style scoped>\n",
       "    .dataframe tbody tr th:only-of-type {\n",
       "        vertical-align: middle;\n",
       "    }\n",
       "\n",
       "    .dataframe tbody tr th {\n",
       "        vertical-align: top;\n",
       "    }\n",
       "\n",
       "    .dataframe thead th {\n",
       "        text-align: right;\n",
       "    }\n",
       "</style>\n",
       "<table border=\"1\" class=\"dataframe\">\n",
       "  <thead>\n",
       "    <tr style=\"text-align: right;\">\n",
       "      <th></th>\n",
       "      <th>model</th>\n",
       "      <th>best_score</th>\n",
       "      <th>best_params</th>\n",
       "    </tr>\n",
       "  </thead>\n",
       "  <tbody>\n",
       "    <tr>\n",
       "      <th>0</th>\n",
       "      <td>svm</td>\n",
       "      <td>0.832925</td>\n",
       "      <td>{'C': 1, 'kernel': 'rbf'}</td>\n",
       "    </tr>\n",
       "    <tr>\n",
       "      <th>1</th>\n",
       "      <td>random_forest</td>\n",
       "      <td>0.792335</td>\n",
       "      <td>{'n_estimators': 20}</td>\n",
       "    </tr>\n",
       "    <tr>\n",
       "      <th>2</th>\n",
       "      <td>decision_tree</td>\n",
       "      <td>0.738215</td>\n",
       "      <td>{'criterion': 'gini'}</td>\n",
       "    </tr>\n",
       "  </tbody>\n",
       "</table>\n",
       "</div>"
      ],
      "text/plain": [
       "           model  best_score                best_params\n",
       "0            svm    0.832925  {'C': 1, 'kernel': 'rbf'}\n",
       "1  random_forest    0.792335       {'n_estimators': 20}\n",
       "2  decision_tree    0.738215      {'criterion': 'gini'}"
      ]
     },
     "execution_count": 277,
     "metadata": {},
     "output_type": "execute_result"
    }
   ],
   "source": [
    "from sklearn.model_selection import GridSearchCV\n",
    "import pandas as pd\n",
    "scores = []\n",
    "\n",
    "for model_name, mp in model_params.items():\n",
    "    clf =  GridSearchCV(mp['model'], mp['params'], cv = 5, return_train_score = False)\n",
    "    clf.fit(X, y)\n",
    "    scores.append({\n",
    "        'model': model_name,\n",
    "        'best_score': clf.best_score_,\n",
    "        'best_params': clf.best_params_\n",
    "    })\n",
    "    \n",
    "df_model = pd.DataFrame(scores,columns=['model','best_score','best_params'])\n",
    "df_model"
   ]
  },
  {
   "cell_type": "markdown",
   "metadata": {},
   "source": [
    "## 9. Conclusion"
   ]
  },
  {
   "cell_type": "code",
   "execution_count": 278,
   "metadata": {},
   "outputs": [
    {
     "data": {
      "text/plain": [
       "{'Logistic Regression': 0.6944444444444444,\n",
       " 'KNN Classifier': 0.753968253968254,\n",
       " 'Support Vector Machine': 0.8055555555555556,\n",
       " 'Random Forest': 0.7976190476190477,\n",
       " 'Decision Tree': 0.75}"
      ]
     },
     "execution_count": 278,
     "metadata": {},
     "output_type": "execute_result"
    }
   ],
   "source": [
    "algo_score"
   ]
  },
  {
   "cell_type": "code",
   "execution_count": 279,
   "metadata": {
    "scrolled": true
   },
   "outputs": [
    {
     "data": {
      "image/png": "[encoded data removed]",
      "text/plain": [
       "<Figure size 1440x504 with 1 Axes>"
      ]
     },
     "metadata": {
      "needs_background": "light"
     },
     "output_type": "display_data"
    }
   ],
   "source": [
    "plt.figure(figsize=(20, 7))\n",
    "plt.bar(range(len(algo_score)), list(algo_score.values()), align ='center')\n",
    "plt.xticks(range(len(algo_score)), list(algo_score.keys()))\n",
    "\n",
    "plt.show()"
   ]
  },
  {
   "cell_type": "markdown",
   "metadata": {},
   "source": [
    "#### Boosting is the best algo to predict whether patient needs treatment or not"
   ]
  },
  {
   "cell_type": "code",
   "execution_count": null,
   "metadata": {},
   "outputs": [],
   "source": []
  }
 ],
 "metadata": {
  "kernelspec": {
   "display_name": "Python 3",
   "language": "python",
   "name": "python3"
  },
  "language_info": {
   "codemirror_mode": {
    "name": "ipython",
    "version": 3
   },
   "file_extension": ".py",
   "mimetype": "text/x-python",
   "name": "python",
   "nbconvert_exporter": "python",
   "pygments_lexer": "ipython3",
   "version": "3.7.6"
  }
 },
 "nbformat": 4,
 "nbformat_minor": 4
}
